{
  "nbformat": 4,
  "nbformat_minor": 5,
  "metadata": {
    "kernelspec": {
      "display_name": "Python 3",
      "language": "python",
      "name": "python3"
    },
    "language_info": {
      "name": "python",
      "pygments_lexer": "ipython3"
    }
  },
  "cells": [
    {
      "id": "f7b0dd9c",
      "cell_type": "markdown",
      "source": "# Dynamic Research Tutorial\n\nThis notebook demonstrates an end-to-end research workflow using `ResearchManager`.",
      "metadata": {}
    },
    {
      "id": "878c1c53",
      "cell_type": "code",
      "metadata": {},
      "execution_count": null,
      "source": "from omicverse.llm.dr import ResearchManager\n\nclass DummyStore:\n    def search(self, query):\n        class Doc:\n            def __init__(self, id, text):\n                self.id=id\n                self.text=text\n        return [Doc(1, f\"background on {query}\")]\n\nrm = ResearchManager(vector_store=DummyStore())\nbrief = rm.scope(\"Example project\")\nfindings = rm.research(brief)\nreport = rm.write(brief, findings)\nprint(report)\n",
      "outputs": []
    }
  ]
}