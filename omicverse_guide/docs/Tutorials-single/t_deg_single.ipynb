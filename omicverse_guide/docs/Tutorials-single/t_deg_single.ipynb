{
 "cells": [
  {
   "cell_type": "markdown",
   "id": "f258c1ef-2a1c-4034-92c8-81649ffe5ea3",
   "metadata": {},
   "source": [
    "# Differential expression and celltype analysis [All Cell]\n",
    "\n",
    "1. Differential gene expression (DGE) analysis identifies genes that show statistically significant differences in expression levels across distinct cell populations or conditions. This analysis helps in identifying which cell types are most affected by a condition of interest such as a disease, and characterizing their functional signatures.\n",
    "\n",
    "2. Differential Compositional analysis identifies Quantifies changes in the relative abundances of each cell type across conditions (e.g., case vs. control, time points, treatment groups). Reveals expansions or contractions of specific populations that may not be captured by gene-level analyses alone.\n",
    "\n",
    "Here, we introduced `omicverse.single.DEG` and `omicverse.single.DCT` to performed these two analysis."
   ]
  },
  {
   "cell_type": "code",
   "execution_count": 1,
   "id": "bff21587",
   "metadata": {},
   "outputs": [],
   "source": [
    "%load_ext autoreload\n",
    "%autoreload 2"
   ]
  },
  {
   "cell_type": "code",
   "execution_count": 2,
   "id": "cd00cf8b-00b8-4199-8c27-6a9b8a6d4739",
   "metadata": {
    "scrolled": true
   },
   "outputs": [
    {
     "name": "stdout",
     "output_type": "stream",
     "text": [
      "🔬 Starting plot initialization...\n",
      "Using already downloaded Arial font from: /tmp/omicverse_arial.ttf\n",
      "Registered as: Arial\n",
      "🧬 Detecting CUDA devices…\n",
      "✅ [GPU 0] NVIDIA GeForce RTX 2080 Ti\n",
      "    • Total memory: 10.7 GB\n",
      "    • Compute capability: 7.5\n",
      "✅ [GPU 1] NVIDIA GeForce RTX 2080 Ti\n",
      "    • Total memory: 10.7 GB\n",
      "    • Compute capability: 7.5\n",
      "\n",
      "   ____            _     _    __                  \n",
      "  / __ \\____ ___  (_)___| |  / /__  _____________ \n",
      " / / / / __ `__ \\/ / ___/ | / / _ \\/ ___/ ___/ _ \\ \n",
      "/ /_/ / / / / / / / /__ | |/ /  __/ /  (__  )  __/ \n",
      "\\____/_/ /_/ /_/_/\\___/ |___/\\___/_/  /____/\\___/                                              \n",
      "\n",
      "🔖 Version: 1.7.6rc1   📚 Tutorials: https://omicverse.readthedocs.io/\n",
      "✅ plot_set complete.\n",
      "\n",
      "2025年 08月 05日 星期二 12:26:22 CST\n"
     ]
    }
   ],
   "source": [
    "import scanpy as sc\n",
    "import pertpy as pt\n",
    "import omicverse as ov\n",
    "ov.plot_set(font_path='Arial')\n",
    "!date"
   ]
  },
  {
   "cell_type": "markdown",
   "id": "befaba3c-e550-4a96-a012-e6fbe9d6c20b",
   "metadata": {},
   "source": [
    "## Data Preprocess\n",
    "\n",
    "The data we use in the following example comes from [Haber et al., 2017]. It contains samples from the small intestinal epithelium of mice with different conditions. We first load the raw cell-level data. The dataset contains gene expressions of 9842 cells. They are annotated with their sample identifier (`batch`), the condition of the subjects and the type of each cell (`cell_label`)."
   ]
  },
  {
   "cell_type": "code",
   "execution_count": 3,
   "id": "29c13ad6-bcf1-4535-8c4b-9b3c367aa71a",
   "metadata": {},
   "outputs": [
    {
     "data": {
      "text/plain": [
       "AnnData object with n_obs × n_vars = 9842 × 15215\n",
       "    obs: 'batch', 'barcode', 'condition', 'cell_label'"
      ]
     },
     "execution_count": 3,
     "metadata": {},
     "output_type": "execute_result"
    }
   ],
   "source": [
    "adata = pt.dt.haber_2017_regions()\n",
    "adata"
   ]
  },
  {
   "cell_type": "markdown",
   "id": "98e4b596-cde2-4d84-b65d-d0a93e6d065d",
   "metadata": {},
   "source": [
    "For our first example, we want to look at how the `Salmonella` infection influences the cell composition. Therefore, we create a subset of our compositional data that only contains the `healthy` and `Salmonella-infected` samples as a new data modality."
   ]
  },
  {
   "cell_type": "code",
   "execution_count": 4,
   "id": "4b907dfa-7f49-49ff-8063-0397c4d7720d",
   "metadata": {},
   "outputs": [
    {
     "name": "stdout",
     "output_type": "stream",
     "text": [
      "AnnData object with n_obs × n_vars = 5010 × 15215\n",
      "    obs: 'batch', 'barcode', 'condition', 'cell_label'\n"
     ]
    }
   ],
   "source": [
    "# Select control and salmonella data\n",
    "adata = adata[\n",
    "    adata.obs[\"condition\"].isin([\"Control\", \"Salmonella\"])\n",
    "].copy()\n",
    "print(adata)"
   ]
  },
  {
   "cell_type": "code",
   "execution_count": 5,
   "id": "4fe50f0f-3afc-417d-ab91-43baa04506f1",
   "metadata": {},
   "outputs": [
    {
     "data": {
      "text/plain": [
       "['Control', 'Salmonella']\n",
       "Categories (2, object): ['Control', 'Salmonella']"
      ]
     },
     "execution_count": 5,
     "metadata": {},
     "output_type": "execute_result"
    }
   ],
   "source": [
    "adata.obs[\"condition\"].unique()"
   ]
  },
  {
   "cell_type": "markdown",
   "id": "6cc84bf3-b671-4966-b130-af40f4beb123",
   "metadata": {},
   "source": [
    "## DEG with wilcoxon/t-test\n",
    "\n",
    "In omicverse, we only need one function `ov.single.DEG` to perfrom all DEG analysis tasks. First, I will introduce the nonparametric Wilcoxon test and the t-test—two widely used methods for differential expression analysis. Due to their high computational efficiency, we applied them in our DEG analysis.\n",
    "\n",
    "We need to set the `ctrl_group` and `test_group` to perform the analysis. Besides, we also need to define the celltype to be explode. If you set `celltype_group` is None, all the celltype will be calculated."
   ]
  },
  {
   "cell_type": "code",
   "execution_count": 6,
   "id": "76b79f6c-7005-4beb-be1b-edc647ec5c3f",
   "metadata": {},
   "outputs": [
    {
     "name": "stdout",
     "output_type": "stream",
     "text": [
      "✅ Differential expression analysis initialized\n",
      "📊 DEG analysis using wilcoxon method\n",
      "📊 Condition: condition, Control group: Control, Test group: Salmonella\n",
      "📊 Celltype key: cell_label, Celltype group: ['TA']\n",
      "Total cells: 533 will be used for DEG analysis\n",
      "normalizing counts per cell\n",
      "    finished (0:00:00)\n",
      "ranking genes\n",
      "    finished: added to `.uns['rank_genes_groups']`\n",
      "    'names', sorted np.recarray to be indexed by group ids\n",
      "    'scores', sorted np.recarray to be indexed by group ids\n",
      "    'logfoldchanges', sorted np.recarray to be indexed by group ids\n",
      "    'pvals', sorted np.recarray to be indexed by group ids\n",
      "    'pvals_adj', sorted np.recarray to be indexed by group ids (0:00:00)\n",
      "✅ wilcoxon DEG analysis completed\n"
     ]
    }
   ],
   "source": [
    "deg_obj=ov.single.DEG(\n",
    "    adata,\n",
    "    condition='condition',\n",
    "    ctrl_group='Control',\n",
    "    test_group='Salmonella',\n",
    "    method='wilcoxon',\n",
    ")\n",
    "deg_obj.run(\n",
    "    celltype_key='cell_label',\n",
    "    celltype_group=['TA'],\n",
    ")\n"
   ]
  },
  {
   "cell_type": "code",
   "execution_count": 7,
   "id": "2b288ed0-6dbe-4441-b813-c035348cb610",
   "metadata": {},
   "outputs": [
    {
     "data": {
      "text/html": [
       "<div>\n",
       "<style scoped>\n",
       "    .dataframe tbody tr th:only-of-type {\n",
       "        vertical-align: middle;\n",
       "    }\n",
       "\n",
       "    .dataframe tbody tr th {\n",
       "        vertical-align: top;\n",
       "    }\n",
       "\n",
       "    .dataframe thead th {\n",
       "        text-align: right;\n",
       "    }\n",
       "</style>\n",
       "<table border=\"1\" class=\"dataframe\">\n",
       "  <thead>\n",
       "    <tr style=\"text-align: right;\">\n",
       "      <th></th>\n",
       "      <th>log2FC</th>\n",
       "      <th>pvalue</th>\n",
       "      <th>padj</th>\n",
       "      <th>qvalue</th>\n",
       "      <th>size</th>\n",
       "      <th>sig</th>\n",
       "      <th>-log(pvalue)</th>\n",
       "      <th>-log(qvalue)</th>\n",
       "      <th>baseMean</th>\n",
       "    </tr>\n",
       "  </thead>\n",
       "  <tbody>\n",
       "    <tr>\n",
       "      <th>Reg3b</th>\n",
       "      <td>5.958403</td>\n",
       "      <td>2.899264e-58</td>\n",
       "      <td>4.411230e-54</td>\n",
       "      <td>4.411230e-54</td>\n",
       "      <td>0.595840</td>\n",
       "      <td>sig</td>\n",
       "      <td>57.537712</td>\n",
       "      <td>53.355440</td>\n",
       "      <td>1.041882</td>\n",
       "    </tr>\n",
       "    <tr>\n",
       "      <th>Reg3g</th>\n",
       "      <td>4.425004</td>\n",
       "      <td>1.576382e-51</td>\n",
       "      <td>1.199233e-47</td>\n",
       "      <td>1.199233e-47</td>\n",
       "      <td>0.442500</td>\n",
       "      <td>sig</td>\n",
       "      <td>50.802339</td>\n",
       "      <td>46.921097</td>\n",
       "      <td>0.975968</td>\n",
       "    </tr>\n",
       "    <tr>\n",
       "      <th>Apoa1</th>\n",
       "      <td>2.589844</td>\n",
       "      <td>2.025723e-40</td>\n",
       "      <td>1.027379e-36</td>\n",
       "      <td>1.027379e-36</td>\n",
       "      <td>0.258984</td>\n",
       "      <td>sig</td>\n",
       "      <td>39.693420</td>\n",
       "      <td>35.988269</td>\n",
       "      <td>0.792002</td>\n",
       "    </tr>\n",
       "    <tr>\n",
       "      <th>Guca2b</th>\n",
       "      <td>2.380329</td>\n",
       "      <td>1.732794e-21</td>\n",
       "      <td>5.272893e-18</td>\n",
       "      <td>5.272893e-18</td>\n",
       "      <td>0.238033</td>\n",
       "      <td>sig</td>\n",
       "      <td>20.761253</td>\n",
       "      <td>17.277951</td>\n",
       "      <td>0.363411</td>\n",
       "    </tr>\n",
       "    <tr>\n",
       "      <th>Zg16</th>\n",
       "      <td>2.077089</td>\n",
       "      <td>2.553716e-21</td>\n",
       "      <td>6.475798e-18</td>\n",
       "      <td>6.475798e-18</td>\n",
       "      <td>0.207709</td>\n",
       "      <td>sig</td>\n",
       "      <td>20.592827</td>\n",
       "      <td>17.188707</td>\n",
       "      <td>0.448646</td>\n",
       "    </tr>\n",
       "  </tbody>\n",
       "</table>\n",
       "</div>"
      ],
      "text/plain": [
       "          log2FC        pvalue          padj        qvalue      size  sig  \\\n",
       "Reg3b   5.958403  2.899264e-58  4.411230e-54  4.411230e-54  0.595840  sig   \n",
       "Reg3g   4.425004  1.576382e-51  1.199233e-47  1.199233e-47  0.442500  sig   \n",
       "Apoa1   2.589844  2.025723e-40  1.027379e-36  1.027379e-36  0.258984  sig   \n",
       "Guca2b  2.380329  1.732794e-21  5.272893e-18  5.272893e-18  0.238033  sig   \n",
       "Zg16    2.077089  2.553716e-21  6.475798e-18  6.475798e-18  0.207709  sig   \n",
       "\n",
       "        -log(pvalue)  -log(qvalue)  baseMean  \n",
       "Reg3b      57.537712     53.355440  1.041882  \n",
       "Reg3g      50.802339     46.921097  0.975968  \n",
       "Apoa1      39.693420     35.988269  0.792002  \n",
       "Guca2b     20.761253     17.277951  0.363411  \n",
       "Zg16       20.592827     17.188707  0.448646  "
      ]
     },
     "execution_count": 7,
     "metadata": {},
     "output_type": "execute_result"
    }
   ],
   "source": [
    "res_wilcoxon=deg_obj.get_results()\n",
    "res_wilcoxon.head()"
   ]
  },
  {
   "cell_type": "markdown",
   "id": "349c38aa-5b23-4807-821d-d5d24c660ac8",
   "metadata": {},
   "source": [
    "We can use `sc.pl.violin` to compare the gene expression between different condition."
   ]
  },
  {
   "cell_type": "code",
   "execution_count": 8,
   "id": "102f613d-aca9-4dff-82df-3fb777719c61",
   "metadata": {},
   "outputs": [],
   "source": [
    "celltypes_li=['TA']\n",
    "\n",
    "sc.pl.violin(\n",
    "    adata[adata.obs['cell_label'].isin(celltypes_li)],\n",
    "    keys=['Reg3b','Reg3g','Apoa1'],\n",
    "    groupby='condition'\n",
    ")"
   ]
  },
  {
   "cell_type": "markdown",
   "id": "7404aef7-d796-465c-9f36-844366f23799",
   "metadata": {},
   "source": [
    "## DEG with memento\n",
    "\n",
    "memento is a python package for performing differential mean, variability, and correlation in single-cell RNA sequencing data.\n",
    "\n",
    "Memento, an end-to-end method that implements a hierarchical model for estimating mean, residual variance, and gene correlation from scRNA-seq data and provides a statistical framework for hypothesis testing of these parameters.\n"
   ]
  },
  {
   "cell_type": "code",
   "execution_count": 9,
   "id": "366ada98-c9bb-47a2-9679-0a6f35f48569",
   "metadata": {},
   "outputs": [
    {
     "name": "stdout",
     "output_type": "stream",
     "text": [
      "✅ Differential expression analysis initialized\n",
      "📊 DEG analysis using memento-de method\n",
      "📊 Condition: condition, Control group: Control, Test group: Salmonella\n",
      "📊 Celltype key: cell_label, Celltype group: ['TA']\n",
      "Total cells: 533 will be used for DEG analysis\n"
     ]
    },
    {
     "name": "stderr",
     "output_type": "stream",
     "text": [
      "[Parallel(n_jobs=12)]: Using backend LokyBackend with 12 concurrent workers.\n",
      "[Parallel(n_jobs=12)]: Done  26 tasks      | elapsed:    4.5s\n",
      "[Parallel(n_jobs=12)]: Done 404 tasks      | elapsed:    6.9s\n",
      "[Parallel(n_jobs=12)]: Done 1404 tasks      | elapsed:   12.8s\n",
      "[Parallel(n_jobs=12)]: Done 2804 tasks      | elapsed:   20.9s\n"
     ]
    },
    {
     "name": "stdout",
     "output_type": "stream",
     "text": [
      "✅ memento-de DEG analysis completed\n"
     ]
    },
    {
     "name": "stderr",
     "output_type": "stream",
     "text": [
      "[Parallel(n_jobs=12)]: Done 4544 out of 4544 | elapsed:   30.9s finished\n"
     ]
    }
   ],
   "source": [
    "# pip install memento-de\n",
    "deg_obj=ov.single.DEG(\n",
    "    adata,\n",
    "    condition='condition',\n",
    "    ctrl_group='Control',\n",
    "    test_group='Salmonella',\n",
    "    method='memento-de',\n",
    ")\n",
    "deg_obj.run(\n",
    "    celltype_key='cell_label',\n",
    "    celltype_group=['TA'],\n",
    "    capture_rate=0.07, \n",
    "    num_cpus=12,\n",
    "    num_boot=5000\n",
    ")"
   ]
  },
  {
   "cell_type": "code",
   "execution_count": 10,
   "id": "09244edc-a8ad-451f-9b18-ab6383e96edd",
   "metadata": {},
   "outputs": [
    {
     "data": {
      "text/html": [
       "<div>\n",
       "<style scoped>\n",
       "    .dataframe tbody tr th:only-of-type {\n",
       "        vertical-align: middle;\n",
       "    }\n",
       "\n",
       "    .dataframe tbody tr th {\n",
       "        vertical-align: top;\n",
       "    }\n",
       "\n",
       "    .dataframe thead th {\n",
       "        text-align: right;\n",
       "    }\n",
       "</style>\n",
       "<table border=\"1\" class=\"dataframe\">\n",
       "  <thead>\n",
       "    <tr style=\"text-align: right;\">\n",
       "      <th></th>\n",
       "      <th>gene</th>\n",
       "      <th>tx</th>\n",
       "      <th>de_coef</th>\n",
       "      <th>de_se</th>\n",
       "      <th>de_pval</th>\n",
       "      <th>dv_coef</th>\n",
       "      <th>dv_se</th>\n",
       "      <th>dv_pval</th>\n",
       "      <th>baseMean</th>\n",
       "    </tr>\n",
       "  </thead>\n",
       "  <tbody>\n",
       "    <tr>\n",
       "      <th>443</th>\n",
       "      <td>Btf3</td>\n",
       "      <td>stim</td>\n",
       "      <td>0.839043</td>\n",
       "      <td>0.231797</td>\n",
       "      <td>0.000236</td>\n",
       "      <td>2.935205</td>\n",
       "      <td>0.572195</td>\n",
       "      <td>3.023267e-07</td>\n",
       "      <td>0.133208</td>\n",
       "    </tr>\n",
       "    <tr>\n",
       "      <th>397</th>\n",
       "      <td>Birc5</td>\n",
       "      <td>stim</td>\n",
       "      <td>0.631178</td>\n",
       "      <td>0.185273</td>\n",
       "      <td>0.000661</td>\n",
       "      <td>1.198823</td>\n",
       "      <td>0.313596</td>\n",
       "      <td>8.280704e-05</td>\n",
       "      <td>0.000000</td>\n",
       "    </tr>\n",
       "    <tr>\n",
       "      <th>3421</th>\n",
       "      <td>Serinc2</td>\n",
       "      <td>stim</td>\n",
       "      <td>0.030935</td>\n",
       "      <td>0.238055</td>\n",
       "      <td>0.826321</td>\n",
       "      <td>2.286925</td>\n",
       "      <td>0.513116</td>\n",
       "      <td>1.613995e-04</td>\n",
       "      <td>0.133208</td>\n",
       "    </tr>\n",
       "    <tr>\n",
       "      <th>917</th>\n",
       "      <td>Dcaf8</td>\n",
       "      <td>stim</td>\n",
       "      <td>0.037631</td>\n",
       "      <td>0.316794</td>\n",
       "      <td>0.846642</td>\n",
       "      <td>1.833335</td>\n",
       "      <td>0.500870</td>\n",
       "      <td>2.680076e-04</td>\n",
       "      <td>0.000000</td>\n",
       "    </tr>\n",
       "    <tr>\n",
       "      <th>536</th>\n",
       "      <td>Ccnb2</td>\n",
       "      <td>stim</td>\n",
       "      <td>0.132247</td>\n",
       "      <td>0.234056</td>\n",
       "      <td>0.565606</td>\n",
       "      <td>1.126923</td>\n",
       "      <td>0.323989</td>\n",
       "      <td>3.477457e-04</td>\n",
       "      <td>0.005629</td>\n",
       "    </tr>\n",
       "  </tbody>\n",
       "</table>\n",
       "</div>"
      ],
      "text/plain": [
       "         gene    tx   de_coef     de_se   de_pval   dv_coef     dv_se  \\\n",
       "443      Btf3  stim  0.839043  0.231797  0.000236  2.935205  0.572195   \n",
       "397     Birc5  stim  0.631178  0.185273  0.000661  1.198823  0.313596   \n",
       "3421  Serinc2  stim  0.030935  0.238055  0.826321  2.286925  0.513116   \n",
       "917     Dcaf8  stim  0.037631  0.316794  0.846642  1.833335  0.500870   \n",
       "536     Ccnb2  stim  0.132247  0.234056  0.565606  1.126923  0.323989   \n",
       "\n",
       "           dv_pval  baseMean  \n",
       "443   3.023267e-07  0.133208  \n",
       "397   8.280704e-05  0.000000  \n",
       "3421  1.613995e-04  0.133208  \n",
       "917   2.680076e-04  0.000000  \n",
       "536   3.477457e-04  0.005629  "
      ]
     },
     "execution_count": 10,
     "metadata": {},
     "output_type": "execute_result"
    }
   ],
   "source": [
    "res_memento=deg_obj.get_results()\n",
    "res_memento.query('dv_coef > 1 & de_coef > 0').sort_values('dv_pval').head(5)"
   ]
  },
  {
   "cell_type": "code",
   "execution_count": 11,
   "id": "da9bdb09-4ecf-4977-ba17-2486acf452ce",
   "metadata": {},
   "outputs": [],
   "source": [
    "celltypes_li=['TA']\n",
    "\n",
    "sc.pl.violin(\n",
    "    adata[adata.obs['cell_label'].isin(celltypes_li)],\n",
    "    keys=['Btf3','Serinc2','Birc5'],\n",
    "    groupby='condition'\n",
    ")"
   ]
  },
  {
   "cell_type": "markdown",
   "id": "cc68f0bb-eaeb-43ef-b65c-80b2858d509d",
   "metadata": {},
   "source": [
    "## DCT with scCODA\n",
    "\n",
    "In omicverse, we only need one function `ov.single.DCT` to perfrom all DCT analysis tasks. We included `scCODA` and `milo` to perform the celltype abundance analysis.\n",
    "\n",
    "Besides, you can also perform the analysis with `pertpy`'s api. `dct_obj.model` will be helpful.\n",
    "\n",
    "More tutorial could be found in https://pertpy.readthedocs.io/en/stable/tutorials/notebooks/sccoda.html"
   ]
  },
  {
   "cell_type": "code",
   "execution_count": 12,
   "id": "b14cea92-bc50-410c-a152-40cd3862c896",
   "metadata": {},
   "outputs": [
    {
     "name": "stdout",
     "output_type": "stream",
     "text": [
      "✅ Differential cell type abundance analysis initialized\n",
      "📊 DCT analysis using sccoda method\n",
      "📊 Condition: condition, Control group: Control, Test group: Salmonella\n",
      "\u001b[94m•\u001b[0m Automatic reference selection! Reference cell type set to Endocrine\n"
     ]
    }
   ],
   "source": [
    "dct_obj=ov.single.DCT(\n",
    "    adata,\n",
    "    condition='condition',\n",
    "    ctrl_group='Control',\n",
    "    test_group='Salmonella',\n",
    "    cell_type_key='cell_label',\n",
    "    method='sccoda',\n",
    "    sample_key='batch',\n",
    ")"
   ]
  },
  {
   "cell_type": "markdown",
   "id": "39072073-c3c4-4f24-b433-83bcae61fa6d",
   "metadata": {},
   "source": [
    "No-U-turn HMC sampling is then initiated by calling sccoda_model.`run_nuts`().\n",
    "\n",
    "We can use `help(dct_obj.model.run_nuts)` to obtain the argument as input."
   ]
  },
  {
   "cell_type": "code",
   "execution_count": 14,
   "id": "03858946-b206-4088-9636-20bd47f6e3c2",
   "metadata": {},
   "outputs": [
    {
     "name": "stderr",
     "output_type": "stream",
     "text": [
      "sample: 100%|██████████| 5500/5500 [07:33<00:00, 12.14it/s, 127 steps of size 3.03e-02. acc. prob=0.72]  \n"
     ]
    },
    {
     "name": "stdout",
     "output_type": "stream",
     "text": [
      "✅ sccoda DCT analysis completed\n"
     ]
    }
   ],
   "source": [
    "dct_obj.run(\n",
    "    num_samples=5000, #number of sampled values after burn-in.\n",
    "    num_warmup=500, #Number of burn-in (warmup) samples.\n",
    ")"
   ]
  },
  {
   "cell_type": "code",
   "execution_count": 15,
   "id": "71911e1a-1e9a-447b-bf12-030b91b15ba3",
   "metadata": {},
   "outputs": [
    {
     "data": {
      "text/html": [
       "<div>\n",
       "<style scoped>\n",
       "    .dataframe tbody tr th:only-of-type {\n",
       "        vertical-align: middle;\n",
       "    }\n",
       "\n",
       "    .dataframe tbody tr th {\n",
       "        vertical-align: top;\n",
       "    }\n",
       "\n",
       "    .dataframe thead th {\n",
       "        text-align: right;\n",
       "    }\n",
       "</style>\n",
       "<table border=\"1\" class=\"dataframe\">\n",
       "  <thead>\n",
       "    <tr style=\"text-align: right;\">\n",
       "      <th></th>\n",
       "      <th></th>\n",
       "      <th>Final Parameter</th>\n",
       "      <th>HDI 3%</th>\n",
       "      <th>HDI 97%</th>\n",
       "      <th>SD</th>\n",
       "      <th>Inclusion probability</th>\n",
       "      <th>Expected Sample</th>\n",
       "      <th>log2-fold change</th>\n",
       "    </tr>\n",
       "    <tr>\n",
       "      <th>Covariate</th>\n",
       "      <th>Cell Type</th>\n",
       "      <th></th>\n",
       "      <th></th>\n",
       "      <th></th>\n",
       "      <th></th>\n",
       "      <th></th>\n",
       "      <th></th>\n",
       "      <th></th>\n",
       "    </tr>\n",
       "  </thead>\n",
       "  <tbody>\n",
       "    <tr>\n",
       "      <th rowspan=\"5\" valign=\"top\">conditionT.Salmonella</th>\n",
       "      <th>Endocrine</th>\n",
       "      <td>0.000000</td>\n",
       "      <td>0.000</td>\n",
       "      <td>0.000</td>\n",
       "      <td>0.000</td>\n",
       "      <td>0.0000</td>\n",
       "      <td>26.064233</td>\n",
       "      <td>-0.490685</td>\n",
       "    </tr>\n",
       "    <tr>\n",
       "      <th>Enterocyte</th>\n",
       "      <td>1.362798</td>\n",
       "      <td>0.840</td>\n",
       "      <td>1.831</td>\n",
       "      <td>0.261</td>\n",
       "      <td>1.0000</td>\n",
       "      <td>323.552564</td>\n",
       "      <td>1.475416</td>\n",
       "    </tr>\n",
       "    <tr>\n",
       "      <th>Enterocyte.Progenitor</th>\n",
       "      <td>0.000000</td>\n",
       "      <td>-0.333</td>\n",
       "      <td>0.654</td>\n",
       "      <td>0.155</td>\n",
       "      <td>0.3216</td>\n",
       "      <td>100.440347</td>\n",
       "      <td>-0.490685</td>\n",
       "    </tr>\n",
       "    <tr>\n",
       "      <th>Goblet</th>\n",
       "      <td>0.000000</td>\n",
       "      <td>-0.260</td>\n",
       "      <td>1.000</td>\n",
       "      <td>0.296</td>\n",
       "      <td>0.4524</td>\n",
       "      <td>43.796942</td>\n",
       "      <td>-0.490685</td>\n",
       "    </tr>\n",
       "    <tr>\n",
       "      <th>Stem</th>\n",
       "      <td>0.000000</td>\n",
       "      <td>-0.804</td>\n",
       "      <td>0.182</td>\n",
       "      <td>0.198</td>\n",
       "      <td>0.3576</td>\n",
       "      <td>120.489666</td>\n",
       "      <td>-0.490685</td>\n",
       "    </tr>\n",
       "  </tbody>\n",
       "</table>\n",
       "</div>"
      ],
      "text/plain": [
       "                                             Final Parameter  HDI 3%  HDI 97%  \\\n",
       "Covariate             Cell Type                                                 \n",
       "conditionT.Salmonella Endocrine                     0.000000   0.000    0.000   \n",
       "                      Enterocyte                    1.362798   0.840    1.831   \n",
       "                      Enterocyte.Progenitor         0.000000  -0.333    0.654   \n",
       "                      Goblet                        0.000000  -0.260    1.000   \n",
       "                      Stem                          0.000000  -0.804    0.182   \n",
       "\n",
       "                                                SD  Inclusion probability  \\\n",
       "Covariate             Cell Type                                             \n",
       "conditionT.Salmonella Endocrine              0.000                 0.0000   \n",
       "                      Enterocyte             0.261                 1.0000   \n",
       "                      Enterocyte.Progenitor  0.155                 0.3216   \n",
       "                      Goblet                 0.296                 0.4524   \n",
       "                      Stem                   0.198                 0.3576   \n",
       "\n",
       "                                             Expected Sample  log2-fold change  \n",
       "Covariate             Cell Type                                                 \n",
       "conditionT.Salmonella Endocrine                    26.064233         -0.490685  \n",
       "                      Enterocyte                  323.552564          1.475416  \n",
       "                      Enterocyte.Progenitor       100.440347         -0.490685  \n",
       "                      Goblet                       43.796942         -0.490685  \n",
       "                      Stem                        120.489666         -0.490685  "
      ]
     },
     "execution_count": 15,
     "metadata": {},
     "output_type": "execute_result"
    }
   ],
   "source": [
    "res=dct_obj.get_results()\n",
    "res.head()"
   ]
  },
  {
   "cell_type": "markdown",
   "id": "85053b64-075a-480e-81a1-8fd5d2e602f3",
   "metadata": {},
   "source": [
    "### Adjusting the False discovery rate\n",
    "\n",
    "scCODA selects credible effects based on their inclusion probability. The cutoff between credible and non-credible effects depends on the desired false discovery rate (FDR). A smaller FDR value will produce more conservative results, but might miss some effects, while a larger FDR value selects more effects at the cost of a larger number of false discoveries.\n",
    "\n",
    "The desired FDR level can be easily set after inference via sim_results.set_fdr(). Per default, the value is 0.05, but we recommend to increase it up to 0.2 if no effects are found at a more conservative level.\n",
    "\n",
    "In our example, setting a desired FDR of 0.4 reveals small effects on Endocrine and Tuft cells. Keep in mind that we chose this value only for instructive purposes, since there are no credible effects beside Enterocytes at lower FDR levels. In practice, expecting 40% of all credible effects to be false-positives is usually not recommended."
   ]
  },
  {
   "cell_type": "code",
   "execution_count": 16,
   "id": "58ce0594-2e81-4f7e-b8c2-2f31b065c90b",
   "metadata": {},
   "outputs": [
    {
     "data": {
      "text/html": [
       "<div>\n",
       "<style scoped>\n",
       "    .dataframe tbody tr th:only-of-type {\n",
       "        vertical-align: middle;\n",
       "    }\n",
       "\n",
       "    .dataframe tbody tr th {\n",
       "        vertical-align: top;\n",
       "    }\n",
       "\n",
       "    .dataframe thead th {\n",
       "        text-align: right;\n",
       "    }\n",
       "</style>\n",
       "<table border=\"1\" class=\"dataframe\">\n",
       "  <thead>\n",
       "    <tr style=\"text-align: right;\">\n",
       "      <th></th>\n",
       "      <th></th>\n",
       "      <th>Final Parameter</th>\n",
       "      <th>HDI 3%</th>\n",
       "      <th>HDI 97%</th>\n",
       "      <th>SD</th>\n",
       "      <th>Inclusion probability</th>\n",
       "      <th>Expected Sample</th>\n",
       "      <th>log2-fold change</th>\n",
       "    </tr>\n",
       "    <tr>\n",
       "      <th>Covariate</th>\n",
       "      <th>Cell Type</th>\n",
       "      <th></th>\n",
       "      <th></th>\n",
       "      <th></th>\n",
       "      <th></th>\n",
       "      <th></th>\n",
       "      <th></th>\n",
       "      <th></th>\n",
       "    </tr>\n",
       "  </thead>\n",
       "  <tbody>\n",
       "    <tr>\n",
       "      <th rowspan=\"5\" valign=\"top\">conditionT.Salmonella</th>\n",
       "      <th>Enterocyte</th>\n",
       "      <td>1.362798</td>\n",
       "      <td>0.840</td>\n",
       "      <td>1.831</td>\n",
       "      <td>0.261</td>\n",
       "      <td>1.0000</td>\n",
       "      <td>327.533634</td>\n",
       "      <td>1.493059</td>\n",
       "    </tr>\n",
       "    <tr>\n",
       "      <th>Goblet</th>\n",
       "      <td>0.338849</td>\n",
       "      <td>-0.260</td>\n",
       "      <td>1.000</td>\n",
       "      <td>0.296</td>\n",
       "      <td>0.4524</td>\n",
       "      <td>62.217882</td>\n",
       "      <td>0.015814</td>\n",
       "    </tr>\n",
       "    <tr>\n",
       "      <th>Enterocyte.Progenitor</th>\n",
       "      <td>0.107106</td>\n",
       "      <td>-0.333</td>\n",
       "      <td>0.654</td>\n",
       "      <td>0.155</td>\n",
       "      <td>0.3216</td>\n",
       "      <td>113.170960</td>\n",
       "      <td>-0.318520</td>\n",
       "    </tr>\n",
       "    <tr>\n",
       "      <th>TA.Early</th>\n",
       "      <td>0.000541</td>\n",
       "      <td>-0.477</td>\n",
       "      <td>0.482</td>\n",
       "      <td>0.133</td>\n",
       "      <td>0.2712</td>\n",
       "      <td>143.070037</td>\n",
       "      <td>-0.472261</td>\n",
       "    </tr>\n",
       "    <tr>\n",
       "      <th>Endocrine</th>\n",
       "      <td>0.000000</td>\n",
       "      <td>0.000</td>\n",
       "      <td>0.000</td>\n",
       "      <td>0.000</td>\n",
       "      <td>0.0000</td>\n",
       "      <td>26.384934</td>\n",
       "      <td>-0.473042</td>\n",
       "    </tr>\n",
       "  </tbody>\n",
       "</table>\n",
       "</div>"
      ],
      "text/plain": [
       "                                             Final Parameter  HDI 3%  HDI 97%  \\\n",
       "Covariate             Cell Type                                                 \n",
       "conditionT.Salmonella Enterocyte                    1.362798   0.840    1.831   \n",
       "                      Goblet                        0.338849  -0.260    1.000   \n",
       "                      Enterocyte.Progenitor         0.107106  -0.333    0.654   \n",
       "                      TA.Early                      0.000541  -0.477    0.482   \n",
       "                      Endocrine                     0.000000   0.000    0.000   \n",
       "\n",
       "                                                SD  Inclusion probability  \\\n",
       "Covariate             Cell Type                                             \n",
       "conditionT.Salmonella Enterocyte             0.261                 1.0000   \n",
       "                      Goblet                 0.296                 0.4524   \n",
       "                      Enterocyte.Progenitor  0.155                 0.3216   \n",
       "                      TA.Early               0.133                 0.2712   \n",
       "                      Endocrine              0.000                 0.0000   \n",
       "\n",
       "                                             Expected Sample  log2-fold change  \n",
       "Covariate             Cell Type                                                 \n",
       "conditionT.Salmonella Enterocyte                  327.533634          1.493059  \n",
       "                      Goblet                       62.217882          0.015814  \n",
       "                      Enterocyte.Progenitor       113.170960         -0.318520  \n",
       "                      TA.Early                    143.070037         -0.472261  \n",
       "                      Endocrine                    26.384934         -0.473042  "
      ]
     },
     "execution_count": 16,
     "metadata": {},
     "output_type": "execute_result"
    }
   ],
   "source": [
    "dct_obj.model.set_fdr(dct_obj.sccoda_data, \n",
    "                      modality_key=\"coda\", \n",
    "                      est_fdr=0.6)\n",
    "res=dct_obj.get_results()\n",
    "res.sort_values('Final Parameter',ascending=False).head()"
   ]
  },
  {
   "cell_type": "code",
   "execution_count": 17,
   "id": "747a39ef-1ec4-4561-8497-41774e27202d",
   "metadata": {},
   "outputs": [],
   "source": [
    "#ov.plot_set()\n",
    "dct_obj.model.plot_boxplots(\n",
    "    dct_obj.sccoda_data, \n",
    "    modality_key=\"coda\", \n",
    "    feature_name=\"condition\", \n",
    "    add_dots=True,\n",
    "    figsize=(4,4),\n",
    "    dpi=80,\n",
    ")\n",
    "ov.plt.show()"
   ]
  },
  {
   "cell_type": "code",
   "execution_count": 18,
   "id": "09a584f7-9a11-4b7f-8503-c4dcbc164bad",
   "metadata": {},
   "outputs": [
    {
     "data": {
      "text/html": [
       "<pre style=\"white-space:pre;overflow-x:auto;line-height:normal;font-family:Menlo,'DejaVu Sans Mono',consolas,'Courier New',monospace\"><span style=\"font-style: italic\">                                          Compositional Analysis summary                                           </span>\n",
       "┌──────────────────────────────────────────────┬──────────────────────────────────────────────────────────────────┐\n",
       "│<span style=\"font-weight: bold\"> Name                                         </span>│<span style=\"font-weight: bold\"> Value                                                            </span>│\n",
       "├──────────────────────────────────────────────┼──────────────────────────────────────────────────────────────────┤\n",
       "│<span style=\"color: #008080; text-decoration-color: #008080\"> Data                                         </span>│ Data: <span style=\"color: #008080; text-decoration-color: #008080; font-weight: bold\">6</span> samples, <span style=\"color: #008080; text-decoration-color: #008080; font-weight: bold\">8</span> cell types                                    │\n",
       "│<span style=\"color: #008080; text-decoration-color: #008080\"> Reference cell type                          </span>│ Endocrine                                                        │\n",
       "│<span style=\"color: #008080; text-decoration-color: #008080\"> Formula                                      </span>│ condition                                                        │\n",
       "└──────────────────────────────────────────────┴──────────────────────────────────────────────────────────────────┘\n",
       "</pre>\n"
      ],
      "text/plain": [
       "\u001b[3m                                          Compositional Analysis summary                                           \u001b[0m\n",
       "┌──────────────────────────────────────────────┬──────────────────────────────────────────────────────────────────┐\n",
       "│\u001b[1m \u001b[0m\u001b[1mName                                        \u001b[0m\u001b[1m \u001b[0m│\u001b[1m \u001b[0m\u001b[1mValue                                                           \u001b[0m\u001b[1m \u001b[0m│\n",
       "├──────────────────────────────────────────────┼──────────────────────────────────────────────────────────────────┤\n",
       "│\u001b[36m \u001b[0m\u001b[36mData                                        \u001b[0m\u001b[36m \u001b[0m│ Data: \u001b[1;36m6\u001b[0m samples, \u001b[1;36m8\u001b[0m cell types                                    │\n",
       "│\u001b[36m \u001b[0m\u001b[36mReference cell type                         \u001b[0m\u001b[36m \u001b[0m│ Endocrine                                                        │\n",
       "│\u001b[36m \u001b[0m\u001b[36mFormula                                     \u001b[0m\u001b[36m \u001b[0m│ condition                                                        │\n",
       "└──────────────────────────────────────────────┴──────────────────────────────────────────────────────────────────┘\n"
      ]
     },
     "metadata": {},
     "output_type": "display_data"
    },
    {
     "data": {
      "text/html": [
       "<pre style=\"white-space:pre;overflow-x:auto;line-height:normal;font-family:Menlo,'DejaVu Sans Mono',consolas,'Courier New',monospace\">┌─────────────────────────────────────────────────────────────────────────────────────────────────────────────────┐\n",
       "│<span style=\"font-weight: bold\"> Intercepts                                                                                                      </span>│\n",
       "├─────────────────────────────────────────────────────────────────────────────────────────────────────────────────┤\n",
       "│                        Final Parameter  Expected Sample                                                         │\n",
       "│ cell_label                                                                                                      │\n",
       "│ Endocrine                  <span style=\"color: #008080; text-decoration-color: #008080; font-weight: bold\">1.196</span>            <span style=\"color: #008080; text-decoration-color: #008080; font-weight: bold\">36.623</span>                                                              │\n",
       "│ Enterocyte                 <span style=\"color: #008080; text-decoration-color: #008080; font-weight: bold\">2.352</span>           <span style=\"color: #008080; text-decoration-color: #008080; font-weight: bold\">116.359</span>                                                              │\n",
       "│ Enterocyte.Progenitor      <span style=\"color: #008080; text-decoration-color: #008080; font-weight: bold\">2.545</span>           <span style=\"color: #008080; text-decoration-color: #008080; font-weight: bold\">141.130</span>                                                              │\n",
       "│ Goblet                     <span style=\"color: #008080; text-decoration-color: #008080; font-weight: bold\">1.715</span>            <span style=\"color: #008080; text-decoration-color: #008080; font-weight: bold\">61.540</span>                                                              │\n",
       "│ Stem                       <span style=\"color: #008080; text-decoration-color: #008080; font-weight: bold\">2.727</span>           <span style=\"color: #008080; text-decoration-color: #008080; font-weight: bold\">169.301</span>                                                              │\n",
       "│ TA                         <span style=\"color: #008080; text-decoration-color: #008080; font-weight: bold\">2.137</span>            <span style=\"color: #008080; text-decoration-color: #008080; font-weight: bold\">93.848</span>                                                              │\n",
       "│ TA.Early                   <span style=\"color: #008080; text-decoration-color: #008080; font-weight: bold\">2.886</span>           <span style=\"color: #008080; text-decoration-color: #008080; font-weight: bold\">198.479</span>                                                              │\n",
       "│ Tuft                       <span style=\"color: #008080; text-decoration-color: #008080; font-weight: bold\">0.470</span>            <span style=\"color: #008080; text-decoration-color: #008080; font-weight: bold\">17.720</span>                                                              │\n",
       "└─────────────────────────────────────────────────────────────────────────────────────────────────────────────────┘\n",
       "</pre>\n"
      ],
      "text/plain": [
       "┌─────────────────────────────────────────────────────────────────────────────────────────────────────────────────┐\n",
       "│\u001b[1m \u001b[0m\u001b[1mIntercepts                                                                                                     \u001b[0m\u001b[1m \u001b[0m│\n",
       "├─────────────────────────────────────────────────────────────────────────────────────────────────────────────────┤\n",
       "│                        Final Parameter  Expected Sample                                                         │\n",
       "│ cell_label                                                                                                      │\n",
       "│ Endocrine                  \u001b[1;36m1.196\u001b[0m            \u001b[1;36m36.623\u001b[0m                                                              │\n",
       "│ Enterocyte                 \u001b[1;36m2.352\u001b[0m           \u001b[1;36m116.359\u001b[0m                                                              │\n",
       "│ Enterocyte.Progenitor      \u001b[1;36m2.545\u001b[0m           \u001b[1;36m141.130\u001b[0m                                                              │\n",
       "│ Goblet                     \u001b[1;36m1.715\u001b[0m            \u001b[1;36m61.540\u001b[0m                                                              │\n",
       "│ Stem                       \u001b[1;36m2.727\u001b[0m           \u001b[1;36m169.301\u001b[0m                                                              │\n",
       "│ TA                         \u001b[1;36m2.137\u001b[0m            \u001b[1;36m93.848\u001b[0m                                                              │\n",
       "│ TA.Early                   \u001b[1;36m2.886\u001b[0m           \u001b[1;36m198.479\u001b[0m                                                              │\n",
       "│ Tuft                       \u001b[1;36m0.470\u001b[0m            \u001b[1;36m17.720\u001b[0m                                                              │\n",
       "└─────────────────────────────────────────────────────────────────────────────────────────────────────────────────┘\n"
      ]
     },
     "metadata": {},
     "output_type": "display_data"
    },
    {
     "data": {
      "text/html": [
       "<pre style=\"white-space:pre;overflow-x:auto;line-height:normal;font-family:Menlo,'DejaVu Sans Mono',consolas,'Courier New',monospace\">┌─────────────────────────────────────────────────────────────────────────────────────────────────────────────────┐\n",
       "│<span style=\"font-weight: bold\"> Effects                                                                                                         </span>│\n",
       "├─────────────────────────────────────────────────────────────────────────────────────────────────────────────────┤\n",
       "│                                              Final Parameter  Expected Sample  log2-fold change                 │\n",
       "│ Covariate             Cell Type                                                                                 │\n",
       "│ conditionT.Salmonella Endocrine                   <span style=\"color: #008080; text-decoration-color: #008080; font-weight: bold\">0.000</span>           <span style=\"color: #008080; text-decoration-color: #008080; font-weight: bold\">26.385</span>            <span style=\"color: #008080; text-decoration-color: #008080; font-weight: bold\">-0.473</span>                      │\n",
       "│                       Enterocyte                  <span style=\"color: #008080; text-decoration-color: #008080; font-weight: bold\">1.363</span>          <span style=\"color: #008080; text-decoration-color: #008080; font-weight: bold\">327.534</span>             <span style=\"color: #008080; text-decoration-color: #008080; font-weight: bold\">1.493</span>                      │\n",
       "│                       Enterocyte.Progenitor       <span style=\"color: #008080; text-decoration-color: #008080; font-weight: bold\">0.107</span>          <span style=\"color: #008080; text-decoration-color: #008080; font-weight: bold\">113.171</span>            <span style=\"color: #008080; text-decoration-color: #008080; font-weight: bold\">-0.319</span>                      │\n",
       "│                       Goblet                      <span style=\"color: #008080; text-decoration-color: #008080; font-weight: bold\">0.339</span>           <span style=\"color: #008080; text-decoration-color: #008080; font-weight: bold\">62.218</span>             <span style=\"color: #008080; text-decoration-color: #008080; font-weight: bold\">0.016</span>                      │\n",
       "│                       Stem                       <span style=\"color: #008080; text-decoration-color: #008080; font-weight: bold\">-0.236</span>           <span style=\"color: #008080; text-decoration-color: #008080; font-weight: bold\">96.296</span>            <span style=\"color: #008080; text-decoration-color: #008080; font-weight: bold\">-0.814</span>                      │\n",
       "│                       TA                         <span style=\"color: #008080; text-decoration-color: #008080; font-weight: bold\">-0.227</span>           <span style=\"color: #008080; text-decoration-color: #008080; font-weight: bold\">53.863</span>            <span style=\"color: #008080; text-decoration-color: #008080; font-weight: bold\">-0.801</span>                      │\n",
       "│                       TA.Early                    <span style=\"color: #008080; text-decoration-color: #008080; font-weight: bold\">0.001</span>          <span style=\"color: #008080; text-decoration-color: #008080; font-weight: bold\">143.070</span>            <span style=\"color: #008080; text-decoration-color: #008080; font-weight: bold\">-0.472</span>                      │\n",
       "│                       Tuft                       <span style=\"color: #008080; text-decoration-color: #008080; font-weight: bold\">-0.024</span>           <span style=\"color: #008080; text-decoration-color: #008080; font-weight: bold\">12.463</span>            <span style=\"color: #008080; text-decoration-color: #008080; font-weight: bold\">-0.508</span>                      │\n",
       "└─────────────────────────────────────────────────────────────────────────────────────────────────────────────────┘\n",
       "</pre>\n"
      ],
      "text/plain": [
       "┌─────────────────────────────────────────────────────────────────────────────────────────────────────────────────┐\n",
       "│\u001b[1m \u001b[0m\u001b[1mEffects                                                                                                        \u001b[0m\u001b[1m \u001b[0m│\n",
       "├─────────────────────────────────────────────────────────────────────────────────────────────────────────────────┤\n",
       "│                                              Final Parameter  Expected Sample  log2-fold change                 │\n",
       "│ Covariate             Cell Type                                                                                 │\n",
       "│ conditionT.Salmonella Endocrine                   \u001b[1;36m0.000\u001b[0m           \u001b[1;36m26.385\u001b[0m            \u001b[1;36m-0.473\u001b[0m                      │\n",
       "│                       Enterocyte                  \u001b[1;36m1.363\u001b[0m          \u001b[1;36m327.534\u001b[0m             \u001b[1;36m1.493\u001b[0m                      │\n",
       "│                       Enterocyte.Progenitor       \u001b[1;36m0.107\u001b[0m          \u001b[1;36m113.171\u001b[0m            \u001b[1;36m-0.319\u001b[0m                      │\n",
       "│                       Goblet                      \u001b[1;36m0.339\u001b[0m           \u001b[1;36m62.218\u001b[0m             \u001b[1;36m0.016\u001b[0m                      │\n",
       "│                       Stem                       \u001b[1;36m-0.236\u001b[0m           \u001b[1;36m96.296\u001b[0m            \u001b[1;36m-0.814\u001b[0m                      │\n",
       "│                       TA                         \u001b[1;36m-0.227\u001b[0m           \u001b[1;36m53.863\u001b[0m            \u001b[1;36m-0.801\u001b[0m                      │\n",
       "│                       TA.Early                    \u001b[1;36m0.001\u001b[0m          \u001b[1;36m143.070\u001b[0m            \u001b[1;36m-0.472\u001b[0m                      │\n",
       "│                       Tuft                       \u001b[1;36m-0.024\u001b[0m           \u001b[1;36m12.463\u001b[0m            \u001b[1;36m-0.508\u001b[0m                      │\n",
       "└─────────────────────────────────────────────────────────────────────────────────────────────────────────────────┘\n"
      ]
     },
     "metadata": {},
     "output_type": "display_data"
    }
   ],
   "source": [
    "dct_obj.model.summary(\n",
    "    dct_obj.sccoda_data, \n",
    "    modality_key=\"coda\"\n",
    ")"
   ]
  },
  {
   "cell_type": "markdown",
   "id": "e53eb709-360d-40a9-86d2-4e3d2cfa0747",
   "metadata": {},
   "source": [
    "## DCT with milo\n",
    "\n",
    "Many biological conditions (disease, development, genetic KOs) can induce shifts in cell composition, where cells of a given state become enriched or depleted in response to a perturbation. With differential abundance analysis, we quantify consistent changes in cell composition across replicate samples. While differential abundance analysis can be performed on cell type clusters, it’s not always possible or practical to use precisely labeled clusters, especially when we are interested in studying transitional states, such as during developmental processes, or when we expect only a subpopulation of a cell type to be affected by the condition of interest. Milo is a method to detect compositional changes occurring in smaller subpopulations of cells, defined as neighbourhoods over the k-nearest neighbor (KNN) graph of cell-cell similarities.\n",
    "\n",
    "Tutorials could be found in https://pertpy.readthedocs.io/en/stable/tutorials/notebooks/milo.html"
   ]
  },
  {
   "cell_type": "markdown",
   "id": "d09185eb-71b2-4a5d-9a71-f8b5da74bbe2",
   "metadata": {},
   "source": [
    "### Build KNN graph\n",
    "\n",
    "We can use omicverse functions to build a KNN graph. We set the dimensionality and value for k to use in subsequent steps.\n",
    "\n",
    "Here the value of k indicates the smallest possible size of neighbourhood in which we will quantify differential abundance (i.e. with k=50 the smallest neighbourhood will have 50 cells). Depending on the number of samples, you might want to use a high value of k for neighbourhood analysis, to have sufficient power to estimate abundance fold-changes. Since here we have data from > 100 patients, we set k=150 to have on average more than one cell per donor in each neighbourhood."
   ]
  },
  {
   "cell_type": "code",
   "execution_count": 19,
   "id": "3a49d9aa-4baf-4e99-9cf8-35f07dd2133b",
   "metadata": {},
   "outputs": [
    {
     "name": "stdout",
     "output_type": "stream",
     "text": [
      "CPU-GPU mixed mode activated\n"
     ]
    }
   ],
   "source": [
    "ov.settings.cpu_gpu_mixed_init()"
   ]
  },
  {
   "cell_type": "code",
   "execution_count": 20,
   "id": "b061c1ed-1566-4414-9f86-0298176e2078",
   "metadata": {
    "scrolled": true
   },
   "outputs": [
    {
     "name": "stdout",
     "output_type": "stream",
     "text": [
      "Begin robust gene identification\n",
      "After filtration, 14793/15215 genes are kept.     Among 14793 genes, 13948 genes are robust.\n",
      "End of robust gene identification.\n",
      "Begin size normalization: shiftlog and HVGs selection pearson\n",
      "normalizing counts per cell\n",
      "The following highly-expressed genes are not considered during normalization factor computation:\n",
      "['Defa24', 'Fabp6', 'Gcg', 'Gip', 'Nts', 'Reg3b', 'Reg4', 'Sct', 'Spink4', 'Sst', 'Tff3', 'Zg16']\n",
      "    finished (0:00:00)\n",
      "extracting highly variable genes\n",
      "--> added\n",
      "    'highly_variable', boolean vector (adata.var)\n",
      "    'highly_variable_rank', float vector (adata.var)\n",
      "    'highly_variable_nbatches', int vector (adata.var)\n",
      "    'highly_variable_intersection', boolean vector (adata.var)\n",
      "    'means', float vector (adata.var)\n",
      "    'variances', float vector (adata.var)\n",
      "    'residual_variances', float vector (adata.var)\n",
      "Time to analyze data in cpu: 1.0320501327514648 seconds.\n",
      "End of size normalization: shiftlog and HVGs selection pearson\n",
      "...Begin using harmony to correct batch effect\n",
      "🚀 Using GPU to calculate PCA...\n",
      "\u001b[94mNVIDIA CUDA GPUs detected:\u001b[0m\n",
      "📊 [CUDA 0] NVIDIA GeForce RTX 2080 Ti\n",
      "    \u001b[91m||||||||||||||||||||||||\u001b[90m------\u001b[0m 9368/11264 MiB (83.2%)\n",
      "📊 [CUDA 1] NVIDIA GeForce RTX 2080 Ti\n",
      "    \u001b[92m\u001b[90m------------------------------\u001b[0m 160/11264 MiB (1.4%)\n",
      "computing PCA🔍\n",
      "    with n_comps=50\n",
      "    finished✅ (0:00:01)\n"
     ]
    },
    {
     "name": "stderr",
     "output_type": "stream",
     "text": [
      "2025-08-05 12:50:26,772 - harmonypy - INFO - Computing initial centroids with sklearn.KMeans...\n",
      "2025-08-05 12:50:27,793 - harmonypy - INFO - sklearn.KMeans initialization complete.\n",
      "2025-08-05 12:50:27,891 - harmonypy - INFO - Iteration 1 of 10\n",
      "2025-08-05 12:50:29,225 - harmonypy - INFO - Iteration 2 of 10\n",
      "2025-08-05 12:50:30,484 - harmonypy - INFO - Iteration 3 of 10\n",
      "2025-08-05 12:50:31,740 - harmonypy - INFO - Iteration 4 of 10\n",
      "2025-08-05 12:50:32,999 - harmonypy - INFO - Iteration 5 of 10\n",
      "2025-08-05 12:50:33,850 - harmonypy - INFO - Iteration 6 of 10\n",
      "2025-08-05 12:50:34,420 - harmonypy - INFO - Iteration 7 of 10\n",
      "2025-08-05 12:50:34,820 - harmonypy - INFO - Iteration 8 of 10\n",
      "2025-08-05 12:50:35,279 - harmonypy - INFO - Converged after 8 iterations\n"
     ]
    },
    {
     "name": "stdout",
     "output_type": "stream",
     "text": [
      "🖥️ Using Scanpy CPU to calculate neighbors...\n",
      "computing neighbors\n",
      "    finished: added to `.uns['neighbors']`\n",
      "    `.obsp['distances']`, distances for each pair of neighbors\n",
      "    `.obsp['connectivities']`, weighted adjacency matrix (0:00:03)\n",
      "🔍 [2025-08-05 12:50:38] Running UMAP in 'cpu-gpu-mixed' mode...\n",
      "🚀 Using torch GPU to calculate UMAP...\n",
      "\u001b[94mNVIDIA CUDA GPUs detected:\u001b[0m\n",
      "📊 [CUDA 0] NVIDIA GeForce RTX 2080 Ti\n",
      "    \u001b[91m||||||||||||||||||||||||\u001b[90m------\u001b[0m 9368/11264 MiB (83.2%)\n",
      "📊 [CUDA 1] NVIDIA GeForce RTX 2080 Ti\n",
      "    \u001b[92m\u001b[90m------------------------------\u001b[0m 160/11264 MiB (1.4%)\n",
      "computing UMAP🚀\n",
      "    finished ✅: added\n",
      "    'X_umap', UMAP coordinates (adata.obsm)\n",
      "    'umap', UMAP parameters (adata.uns) (0:00:06)\n",
      "✅ UMAP completed successfully.\n"
     ]
    }
   ],
   "source": [
    "adata=ov.pp.preprocess(adata,mode='shiftlog|pearson',n_HVGs=2000,\n",
    "                       target_sum=50*1e4)\n",
    "adata.raw = adata\n",
    "adata = adata[:, adata.var.highly_variable_features]\n",
    "ov.single.batch_correction(adata,batch_key='batch',\n",
    "                                        methods='harmony',n_pcs=50)\n",
    "ov.pp.neighbors(adata, n_neighbors=15, n_pcs=50,\n",
    "               use_rep='X_harmony')\n",
    "ov.pp.umap(adata)"
   ]
  },
  {
   "cell_type": "code",
   "execution_count": 21,
   "id": "a740746c-dc67-4cf3-8c1e-b609b9ba45fe",
   "metadata": {},
   "outputs": [],
   "source": [
    "ov.pl.embedding(\n",
    "    adata,\n",
    "    basis='X_umap',\n",
    "    color=['batch','cell_label'],\n",
    ")"
   ]
  },
  {
   "cell_type": "markdown",
   "id": "cfda3f5a-ce9a-4161-b957-f280f4c8264c",
   "metadata": {},
   "source": [
    "### Differential abundance testing with GLM\n",
    "\n",
    "Similar to the scCODA approach, we use `omicverse.single.DCT` to perform differential cell–abundance analysis, except that here we set the `method` to `milo`. In future releases, we will gradually remove the rpy2‐based edgeR dependency so that milo analyses can run entirely in a native Python environment.\n"
   ]
  },
  {
   "cell_type": "code",
   "execution_count": 22,
   "id": "16dae2f7-19b5-4270-b5fc-040d8549c1d4",
   "metadata": {},
   "outputs": [
    {
     "name": "stdout",
     "output_type": "stream",
     "text": [
      "✅ Differential cell type abundance analysis initialized\n",
      "📊 DCT analysis using milo method\n",
      "📊 Condition: condition, Control group: Control, Test group: Salmonella\n",
      "computing neighbors\n",
      "    finished: added to `.uns['neighbors']`\n",
      "    `.obsp['distances']`, distances for each pair of neighbors\n",
      "    `.obsp['connectivities']`, weighted adjacency matrix (0:00:00)\n"
     ]
    }
   ],
   "source": [
    "dct_obj=ov.single.DCT(\n",
    "    adata,\n",
    "    condition='condition',\n",
    "    ctrl_group='Control',\n",
    "    test_group='Salmonella',\n",
    "    cell_type_key='cell_label',\n",
    "    method='milo',\n",
    "    sample_key='batch',\n",
    "    use_rep='X_harmony'\n",
    ")"
   ]
  },
  {
   "cell_type": "code",
   "execution_count": 23,
   "id": "e8b5156b-5a79-4ef8-94cc-53aac1637563",
   "metadata": {},
   "outputs": [
    {
     "name": "stdout",
     "output_type": "stream",
     "text": [
      "✅ milo DCT analysis completed\n"
     ]
    }
   ],
   "source": [
    "dct_obj.run()"
   ]
  },
  {
   "cell_type": "markdown",
   "id": "3f80ca26-57f8-46dd-b7f8-174c89258de9",
   "metadata": {},
   "source": [
    "We can start inspecting the results of our DA analysis from a couple of standard diagnostic plots."
   ]
  },
  {
   "cell_type": "code",
   "execution_count": 24,
   "id": "45b3f653-0314-4554-be85-808bfcb8b76e",
   "metadata": {},
   "outputs": [],
   "source": [
    "import matplotlib.pyplot as plt\n",
    "old_figsize = plt.rcParams[\"figure.figsize\"]\n",
    "plt.rcParams[\"figure.figsize\"] = [6, 3]\n",
    "plt.subplot(1, 2, 1)\n",
    "plt.hist(dct_obj.mdata[\"milo\"].var.PValue, bins=50)\n",
    "plt.xlabel(\"P-Vals\")\n",
    "plt.subplot(1, 2, 2)\n",
    "plt.plot(dct_obj.mdata[\"milo\"].var.logFC, -ov.np.log10(dct_obj.mdata[\"milo\"].var.SpatialFDR), \".\")\n",
    "plt.xlabel(\"log-Fold Change\")\n",
    "plt.ylabel(\"- log10(Spatial FDR)\")\n",
    "plt.tight_layout()\n",
    "plt.rcParams[\"figure.figsize\"] = old_figsize"
   ]
  },
  {
   "cell_type": "markdown",
   "id": "2eabf49b-76f2-4736-9ca8-600cf36cdb03",
   "metadata": {},
   "source": [
    "We can see that for the majority of neighbourhoods, almost all cells have the same cell type label. We can rename neighbourhoods where less than 60% of the cells have the top label as “Mixed”"
   ]
  },
  {
   "cell_type": "code",
   "execution_count": 25,
   "id": "dbe1bccd-9562-4b95-ac45-2cedb7a10ca5",
   "metadata": {},
   "outputs": [
    {
     "data": {
      "text/plain": [
       "Text(0.5, 0, 'celltype fraction')"
      ]
     },
     "execution_count": 25,
     "metadata": {},
     "output_type": "execute_result"
    }
   ],
   "source": [
    "plt.hist(dct_obj.mdata[\"milo\"].var[\"nhood_annotation_frac\"], bins=30)\n",
    "plt.xlabel(\"celltype fraction\")"
   ]
  },
  {
   "cell_type": "code",
   "execution_count": 26,
   "id": "659c9025-509c-4e69-a3a2-9d04605d1a6b",
   "metadata": {},
   "outputs": [
    {
     "data": {
      "text/html": [
       "<div>\n",
       "<style scoped>\n",
       "    .dataframe tbody tr th:only-of-type {\n",
       "        vertical-align: middle;\n",
       "    }\n",
       "\n",
       "    .dataframe tbody tr th {\n",
       "        vertical-align: top;\n",
       "    }\n",
       "\n",
       "    .dataframe thead th {\n",
       "        text-align: right;\n",
       "    }\n",
       "</style>\n",
       "<table border=\"1\" class=\"dataframe\">\n",
       "  <thead>\n",
       "    <tr style=\"text-align: right;\">\n",
       "      <th></th>\n",
       "      <th>index_cell</th>\n",
       "      <th>kth_distance</th>\n",
       "      <th>logFC</th>\n",
       "      <th>logCPM</th>\n",
       "      <th>F</th>\n",
       "      <th>PValue</th>\n",
       "      <th>FDR</th>\n",
       "      <th>adjust.method</th>\n",
       "      <th>comparison</th>\n",
       "      <th>test</th>\n",
       "      <th>SpatialFDR</th>\n",
       "      <th>Nhood_size</th>\n",
       "      <th>nhood_annotation</th>\n",
       "      <th>nhood_annotation_frac</th>\n",
       "    </tr>\n",
       "  </thead>\n",
       "  <tbody>\n",
       "    <tr>\n",
       "      <th>0</th>\n",
       "      <td>B1_AATAAGCTAGAGAT_Control_Enterocyte.Progenitor</td>\n",
       "      <td>11.100586</td>\n",
       "      <td>-0.813165</td>\n",
       "      <td>12.359344</td>\n",
       "      <td>7.826394</td>\n",
       "      <td>0.015007</td>\n",
       "      <td>0.045259</td>\n",
       "      <td>BH</td>\n",
       "      <td>-1*conditionControl 1*conditionSalmonella</td>\n",
       "      <td>glm</td>\n",
       "      <td>0.044600</td>\n",
       "      <td>331.0</td>\n",
       "      <td>Mixed</td>\n",
       "      <td>0.456193</td>\n",
       "    </tr>\n",
       "    <tr>\n",
       "      <th>1</th>\n",
       "      <td>B1_ACAAAGGATTGTGG_Control_Stem</td>\n",
       "      <td>9.838944</td>\n",
       "      <td>-0.749778</td>\n",
       "      <td>13.111821</td>\n",
       "      <td>8.497840</td>\n",
       "      <td>0.011964</td>\n",
       "      <td>0.040188</td>\n",
       "      <td>BH</td>\n",
       "      <td>-1*conditionControl 1*conditionSalmonella</td>\n",
       "      <td>glm</td>\n",
       "      <td>0.039194</td>\n",
       "      <td>551.0</td>\n",
       "      <td>Mixed</td>\n",
       "      <td>0.589837</td>\n",
       "    </tr>\n",
       "    <tr>\n",
       "      <th>2</th>\n",
       "      <td>B1_ACATGGTGCCGTTC_Control_Goblet</td>\n",
       "      <td>15.230800</td>\n",
       "      <td>0.143952</td>\n",
       "      <td>11.935857</td>\n",
       "      <td>0.118641</td>\n",
       "      <td>0.735988</td>\n",
       "      <td>0.776876</td>\n",
       "      <td>BH</td>\n",
       "      <td>-1*conditionControl 1*conditionSalmonella</td>\n",
       "      <td>glm</td>\n",
       "      <td>0.780154</td>\n",
       "      <td>241.0</td>\n",
       "      <td>Goblet</td>\n",
       "      <td>0.991701</td>\n",
       "    </tr>\n",
       "    <tr>\n",
       "      <th>3</th>\n",
       "      <td>B1_AGCGGCACCAGAAA_Control_Stem</td>\n",
       "      <td>9.446790</td>\n",
       "      <td>-0.696262</td>\n",
       "      <td>13.245266</td>\n",
       "      <td>6.665614</td>\n",
       "      <td>0.022656</td>\n",
       "      <td>0.058277</td>\n",
       "      <td>BH</td>\n",
       "      <td>-1*conditionControl 1*conditionSalmonella</td>\n",
       "      <td>glm</td>\n",
       "      <td>0.057199</td>\n",
       "      <td>604.0</td>\n",
       "      <td>Stem</td>\n",
       "      <td>0.798013</td>\n",
       "    </tr>\n",
       "    <tr>\n",
       "      <th>4</th>\n",
       "      <td>B1_ATTACCTGGGATTC_Control_TA</td>\n",
       "      <td>10.838922</td>\n",
       "      <td>-0.709047</td>\n",
       "      <td>12.384033</td>\n",
       "      <td>5.436002</td>\n",
       "      <td>0.036320</td>\n",
       "      <td>0.079148</td>\n",
       "      <td>BH</td>\n",
       "      <td>-1*conditionControl 1*conditionSalmonella</td>\n",
       "      <td>glm</td>\n",
       "      <td>0.078575</td>\n",
       "      <td>340.0</td>\n",
       "      <td>Mixed</td>\n",
       "      <td>0.444118</td>\n",
       "    </tr>\n",
       "  </tbody>\n",
       "</table>\n",
       "</div>"
      ],
      "text/plain": [
       "                                        index_cell  kth_distance     logFC  \\\n",
       "0  B1_AATAAGCTAGAGAT_Control_Enterocyte.Progenitor     11.100586 -0.813165   \n",
       "1                   B1_ACAAAGGATTGTGG_Control_Stem      9.838944 -0.749778   \n",
       "2                 B1_ACATGGTGCCGTTC_Control_Goblet     15.230800  0.143952   \n",
       "3                   B1_AGCGGCACCAGAAA_Control_Stem      9.446790 -0.696262   \n",
       "4                     B1_ATTACCTGGGATTC_Control_TA     10.838922 -0.709047   \n",
       "\n",
       "      logCPM         F    PValue       FDR adjust.method  \\\n",
       "0  12.359344  7.826394  0.015007  0.045259            BH   \n",
       "1  13.111821  8.497840  0.011964  0.040188            BH   \n",
       "2  11.935857  0.118641  0.735988  0.776876            BH   \n",
       "3  13.245266  6.665614  0.022656  0.058277            BH   \n",
       "4  12.384033  5.436002  0.036320  0.079148            BH   \n",
       "\n",
       "                                  comparison test  SpatialFDR  Nhood_size  \\\n",
       "0  -1*conditionControl 1*conditionSalmonella  glm    0.044600       331.0   \n",
       "1  -1*conditionControl 1*conditionSalmonella  glm    0.039194       551.0   \n",
       "2  -1*conditionControl 1*conditionSalmonella  glm    0.780154       241.0   \n",
       "3  -1*conditionControl 1*conditionSalmonella  glm    0.057199       604.0   \n",
       "4  -1*conditionControl 1*conditionSalmonella  glm    0.078575       340.0   \n",
       "\n",
       "  nhood_annotation  nhood_annotation_frac  \n",
       "0            Mixed               0.456193  \n",
       "1            Mixed               0.589837  \n",
       "2           Goblet               0.991701  \n",
       "3             Stem               0.798013  \n",
       "4            Mixed               0.444118  "
      ]
     },
     "execution_count": 26,
     "metadata": {},
     "output_type": "execute_result"
    }
   ],
   "source": [
    "res=dct_obj.get_results(mix_threshold=0.6)\n",
    "res.head()"
   ]
  },
  {
   "cell_type": "markdown",
   "id": "175c1012-26a0-46f8-b377-348098b68827",
   "metadata": {},
   "source": [
    "### Visualization\n",
    "\n",
    "This is my favorite Milo plot. First, we create a `color_dict` to specify the cell colors we want to visualize.\n"
   ]
  },
  {
   "cell_type": "code",
   "execution_count": 27,
   "id": "111ffaeb-e6a8-435e-8858-4c67042893c9",
   "metadata": {
    "scrolled": true
   },
   "outputs": [],
   "source": [
    "color_dict=dict(zip(\n",
    "    adata.obs['cell_label'].cat.categories,\n",
    "    ov.pl.green_color[:4]+ov.pl.purple_color\n",
    "))\n",
    "color_dict['Mixed']='#c2c2c2'\n",
    "fig, ax = plt.subplots(figsize=(3, 3))\n",
    "ov.pl.embedding(\n",
    "    adata,\n",
    "    basis='X_umap',\n",
    "    color=['cell_label'],\n",
    "    palette=color_dict,\n",
    "    ax=ax,\n",
    "    #fig_size=(3,3)\n",
    ")"
   ]
  },
  {
   "cell_type": "code",
   "execution_count": 28,
   "id": "aff98326-8650-43a9-967a-199118769b2f",
   "metadata": {},
   "outputs": [
    {
     "data": {
      "text/plain": [
       "Text(1, -0.75, 'Enriched in\\nSalmonella')"
      ]
     },
     "execution_count": 28,
     "metadata": {},
     "output_type": "execute_result"
    }
   ],
   "source": [
    "#fig, ax = plt.subplots(figsize=(3, 4))\n",
    "dct_obj.model.plot_da_beeswarm(\n",
    "    dct_obj.mdata, \n",
    "    alpha=0.1,\n",
    "    return_fig=True,\n",
    "    palette=color_dict,\n",
    ")\n",
    "ov.plt.xticks(fontsize=12)\n",
    "ov.plt.yticks(fontsize=12)\n",
    "ov.plt.ylabel('T/NK Cells',fontsize=13)\n",
    "ov.plt.text(-1,-0.75,'Enriched in\\nControl',fontsize=13)\n",
    "ov.plt.text(1,-0.75,'Enriched in\\nSalmonella',fontsize=13)\n",
    "#fig"
   ]
  }
 ],
 "metadata": {
  "kernelspec": {
   "display_name": "omicverse_conda",
   "language": "python",
   "name": "python3"
  },
  "language_info": {
   "codemirror_mode": {
    "name": "ipython",
    "version": 3
   },
   "file_extension": ".py",
   "mimetype": "text/x-python",
   "name": "python",
   "nbconvert_exporter": "python",
   "pygments_lexer": "ipython3",
   "version": "3.11.13"
  },
  "widgets": {
   "application/vnd.jupyter.widget-state+json": {
    "state": {},
    "version_major": 2,
    "version_minor": 0
   }
  }
 },
 "nbformat": 4,
 "nbformat_minor": 5
}
