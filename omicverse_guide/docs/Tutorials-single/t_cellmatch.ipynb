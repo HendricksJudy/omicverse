{
 "cells": [
  {
   "cell_type": "markdown",
   "id": "261c449f-c2c2-4799-8505-cf04c08010b1",
   "metadata": {},
   "source": [
    "# Mapping Cell Names to the Cell Ontology/Taxonomy\n",
    "\n",
    "Cell Ontology (CL) (https://obofoundry.org/ontology/cl.html) is an ontology designed to classify and describe cell types across different organisms. It serves as a resource for model organism and bioinformatics databases. The ontology covers a broad range of cell types in animal cells, with over 2700 cell type classes, and provides high-level cell type classes as mapping points for cell type classes in ontologies representing other species, such as the Plant Ontology or Drosophila Anatomy Ontology. Integration with other ontologies such as Uberon, GO, CHEBI, PR, and PATO enables linking cell types to anatomical structures, biological processes, and other relevant concepts.\n",
    "\n",
    "Cell Taxonomy (https://ngdc.cncb.ac.cn/celltaxonomy), a comprehensive and curated repository of cell types and associated cell markers encompassing a wide range of species, tissues and conditions. Combined with literature curation and data integration, the current version of Cell Taxonomy establishes a well-structured taxonomy for 3,143 cell types and houses a comprehensive collection of 26,613 associated cell markers in 257 conditions and 387 tissues across 34 species. Based on 4,299 publications and single-cell transcriptomic profiles of ∼3.5 million cells, Cell Taxonomy features multifaceted characterization for cell types and cell markers, involving quality assessment of cell markers and cell clusters, cross-species comparison, cell composition of tissues and cellular similarity based on markers.\n",
    "\n",
    "Here we provide several functions that convert the cell names you annotated to their corresponding Cell Ontology/Taxonomy names and IDs.\n",
    "\n",
    "All analysis are performed with `omicverse.single.CellOntologyMapper` class.\n",
    "\n",
    "- CellOntologyMapper: Zeng, Z., Wang, X., & Du, H. (2025). CellOntologyMapper: Consensus mapping of cell type annotation. bioRxiv, 2025-06.\n",
    "\n",
    "- Cell Ontology: Mungall, C., Haendel, M., Dahdul, W., Ibrahim, N., Segerdell, E., Blackburn, D., Comte, A., Niknejad, A., and Decechi, A. (2016), Uberon Ontology, http://purl.obolibrary.org/obo/uberon/releases/2016-01-26/uberon.owl\n",
    "- Cell Taxonomy: Jiang, S., Qian, Q., Zhu, T., Zong, W., Shang, Y., Jin, T., ... & Zhang, Z. (2023). Cell Taxonomy: a curated repository of cell types with multifaceted characterization. Nucleic Acids Research, 51(D1), D853-D860.\n",
    "\n",
    "\n",
    "<div class=\"admonition warning\">\n",
    "  <p class=\"admonition-title\">Note</p>\n",
    "  <p>\n",
    "    Support for Cell Taxonomy is available in version 1.7.2rc1. You can install it with \n",
    "      \n",
    "      pip install git+https://github.com/Starlitnightly/omicverse.git\n",
    "      \n",
    "    or \n",
    "    \n",
    "      pip install omicverse==1.7.2rc1.\n",
    "      \n",
    "  </p>\n",
    "</div>"
   ]
  },
  {
   "cell_type": "code",
   "execution_count": 1,
   "id": "3013fd06-8595-458a-b603-a6ebaa79dcd5",
   "metadata": {},
   "outputs": [
    {
     "name": "stdout",
     "output_type": "stream",
     "text": [
      "🔬 Starting plot initialization...\n",
      "🧬 Detecting CUDA devices…\n",
      "✅ [GPU 0] NVIDIA GeForce RTX 2080 Ti\n",
      "    • Total memory: 10.7 GB\n",
      "    • Compute capability: 7.5\n",
      "✅ [GPU 1] NVIDIA GeForce RTX 2080 Ti\n",
      "    • Total memory: 10.7 GB\n",
      "    • Compute capability: 7.5\n",
      "\n",
      "   ____            _     _    __                  \n",
      "  / __ \\____ ___  (_)___| |  / /__  _____________ \n",
      " / / / / __ `__ \\/ / ___/ | / / _ \\/ ___/ ___/ _ \\ \n",
      "/ /_/ / / / / / / / /__ | |/ /  __/ /  (__  )  __/ \n",
      "\\____/_/ /_/ /_/_/\\___/ |___/\\___/_/  /____/\\___/                                              \n",
      "\n",
      "🔖 Version: 1.7.6rc1   📚 Tutorials: https://omicverse.readthedocs.io/\n",
      "✅ plot_set complete.\n",
      "\n",
      "2025年 08月 05日 星期二 11:28:00 CST\n"
     ]
    }
   ],
   "source": [
    "import scanpy as sc\n",
    "#import pertpy as pt\n",
    "import omicverse as ov\n",
    "ov.plot_set()\n",
    "\n",
    "%load_ext autoreload\n",
    "%autoreload 2\n",
    "!date"
   ]
  },
  {
   "cell_type": "markdown",
   "id": "82e46b84-e8d4-4925-9cbf-5c2f2930f674",
   "metadata": {},
   "source": [
    "## Prepared datasets\n",
    "\n",
    "Before you convert you cell names, you need to annotate at first. Here, we used haber_2017_regions dataset from `pertpy` to test."
   ]
  },
  {
   "cell_type": "code",
   "execution_count": 2,
   "id": "dc40334a-fb36-4e0c-9b87-62664f9ebb58",
   "metadata": {},
   "outputs": [
    {
     "data": {
      "text/plain": [
       "AnnData object with n_obs × n_vars = 9842 × 15215\n",
       "    obs: 'batch', 'barcode', 'condition', 'cell_label'"
      ]
     },
     "execution_count": 2,
     "metadata": {},
     "output_type": "execute_result"
    }
   ],
   "source": [
    "import pertpy as pt\n",
    "adata = pt.dt.haber_2017_regions()\n",
    "adata"
   ]
  },
  {
   "cell_type": "code",
   "execution_count": 3,
   "id": "fe70928d-569d-44f5-8a8c-5125a999ea8e",
   "metadata": {},
   "outputs": [
    {
     "data": {
      "text/plain": [
       "['Enterocyte.Progenitor', 'Stem', 'TA.Early', 'TA', 'Tuft', 'Enterocyte', 'Goblet', 'Endocrine']\n",
       "Categories (8, object): ['Endocrine', 'Enterocyte', 'Enterocyte.Progenitor', 'Goblet', 'Stem', 'TA', 'TA.Early', 'Tuft']"
      ]
     },
     "execution_count": 3,
     "metadata": {},
     "output_type": "execute_result"
    }
   ],
   "source": [
    "adata.obs['cell_label'].unique()"
   ]
  },
  {
   "cell_type": "markdown",
   "id": "1e7240a6-7942-4985-83ab-ab658a1fad93",
   "metadata": {},
   "source": [
    "## Download the CL Model\n",
    "\n",
    "Before we start our analysis, we need to download the `cl.json` from Cell Ontology.\n",
    "\n",
    "```shell\n",
    "# Download cl.ono fro OBO page.\n",
    "!mkdir new_ontology\n",
    "!wget http://purl.obolibrary.org/obo/cl/cl.json -O new_ontology/cl.json\n",
    "```\n",
    "\n",
    "But we have also provided a function named `omicverse.single.download_cl()` to download it automatically. The benefit of this function is that it can choose an appropriate source to download the file even if you encounter a network error.\n",
    "\n",
    "There are some alternative links to download the file manual. :\n",
    "\n",
    "- Google Drive: https://drive.google.com/uc?export=download&id=1niokr5INjWFVjiXHfdCoWioh0ZEYCPkv\n",
    "- Lanzou(蓝奏云): https://www.lanzoup.com/iN6CX2ybh48h"
   ]
  },
  {
   "cell_type": "code",
   "execution_count": 4,
   "id": "6343d9a6-5d28-4721-9590-8cb4d9efad2d",
   "metadata": {},
   "outputs": [
    {
     "name": "stdout",
     "output_type": "stream",
     "text": [
      "Downloading Cell Ontology to: new_ontology/cl.json\n",
      "============================================================\n",
      "\n",
      "[1/3] Trying Official OBO Library...\n",
      "    URL: http://purl.obolibrary.org/obo/cl/cl.json\n",
      "    Description: Direct download from official Cell Ontology\n",
      "    → Downloading...\n"
     ]
    },
    {
     "name": "stderr",
     "output_type": "stream",
     "text": [
      "                                                                                \r"
     ]
    },
    {
     "name": "stdout",
     "output_type": "stream",
     "text": [
      "    → Downloaded: 35.25 MB\n",
      "    ✓ File validation successful\n",
      "    ✓ Successfully downloaded from Official OBO Library\n",
      "    File saved to: new_ontology/cl.json\n",
      "    File size: 35.25 MB\n"
     ]
    },
    {
     "data": {
      "text/plain": [
       "(True, 'new_ontology/cl.json')"
      ]
     },
     "execution_count": 4,
     "metadata": {},
     "output_type": "execute_result"
    }
   ],
   "source": [
    "ov.single.download_cl(output_dir=\"new_ontology\", filename=\"cl.json\")"
   ]
  },
  {
   "cell_type": "markdown",
   "id": "eebb6271-058e-40bc-b72c-bec5adf031cc",
   "metadata": {},
   "source": [
    "## Prepare the CellOntologyMapper\n",
    "\n",
    "Because the CellOntologyMapper rely on the NLP embedding model of SentenceTransformer. So we need to choose a NLP embedding from huggingface. Here are some recommendation. \n",
    "\n",
    "You can found the entire list from [huggingface](https://huggingface.co/models?library=sentence-transformers) or [huggingface mirror](https://hf-mirror.com/models?library=sentence-transformers).\n",
    "\n",
    "- BAAI/bge-base-en-v1.5\n",
    "- BAAI/bge-small-en-v1.5\n",
    "- sentence-transformers/all-MiniLM-L6-v2\n",
    "- ..."
   ]
  },
  {
   "cell_type": "code",
   "execution_count": 6,
   "id": "3c59f535-ed06-46fd-a3ae-629bb6fb6ac9",
   "metadata": {
    "scrolled": true
   },
   "outputs": [
    {
     "name": "stdout",
     "output_type": "stream",
     "text": [
      "🔨 Creating ontology resources from OBO file...\n",
      "📖 Parsing ontology file...\n",
      "🧠 Creating NLP embeddings...\n",
      "🔄 Loading model my_models/BAAI/bge-base-en-v1.5...\n",
      "📁 Loading local model from: my_models/BAAI/bge-base-en-v1.5\n",
      "✓ Local model loaded successfully!\n",
      "🔄 Encoding 18426 ontology labels...\n"
     ]
    },
    {
     "data": {
      "application/vnd.jupyter.widget-view+json": {
       "model_id": "7351ee0a05724b6483c1c962fdbb3978",
       "version_major": 2,
       "version_minor": 0
      },
      "text/plain": [
       "Batches:   0%|          | 0/576 [00:00<?, ?it/s]"
      ]
     },
     "metadata": {},
     "output_type": "display_data"
    },
    {
     "name": "stdout",
     "output_type": "stream",
     "text": [
      "💾 Embeddings saved to: new_ontology/ontology_embeddings.pkl\n",
      "📋 Ontology mappings included: 18426 cell types\n",
      "✓ Ontology resources creation completed!\n"
     ]
    }
   ],
   "source": [
    "# !huggingface-cli download sentence-transformers/all-MiniLM-L6-v2 --local-dir my_models/sentence-transformers/all-MiniLM-L6-v2\n",
    "mapper = ov.single.CellOntologyMapper(\n",
    "    cl_obo_file=\"new_ontology/cl.json\",\n",
    "    # model_name=\"my_models/sentence-transformers/all-MiniLM-L6-v2\",\n",
    "    model_name=\"my_models/BAAI/bge-base-en-v1.5\",\n",
    "    # local_model_dir=\"./my_models\"\n",
    ")"
   ]
  },
  {
   "cell_type": "markdown",
   "id": "e76939ec-c53a-4b2f-985c-4d3bb805924b",
   "metadata": {},
   "source": [
    "If you have calculated the embedding of cell ontology, you can load it directly."
   ]
  },
  {
   "cell_type": "code",
   "execution_count": 7,
   "id": "9c50317c-fe11-4be8-84e3-2e879a2a9387",
   "metadata": {},
   "outputs": [
    {
     "name": "stdout",
     "output_type": "stream",
     "text": [
      "📥 Loading existing ontology embeddings...\n",
      "📥 Loaded embeddings for 18426 ontology labels\n",
      "📋 Ontology mappings loaded: 18426 cell types\n"
     ]
    }
   ],
   "source": [
    "mapper = ov.single.CellOntologyMapper(\n",
    "    cl_obo_file=\"new_ontology/cl.json\",\n",
    "    embeddings_path='new_ontology/ontology_embeddings.pkl',\n",
    "    local_model_dir=\"./my_models\"\n",
    ")"
   ]
  },
  {
   "cell_type": "markdown",
   "id": "9bcedf69-8a4f-4509-ac3c-a486f8496e76",
   "metadata": {},
   "source": [
    "## Mapping Celltype\n",
    "\n",
    "We can use `map_adata` to calculate simility between the cell name in our datasets and cell name in cell ontology."
   ]
  },
  {
   "cell_type": "code",
   "execution_count": 8,
   "id": "4ec6e903-78a4-48e2-b2ce-b6907b787dc0",
   "metadata": {
    "scrolled": true
   },
   "outputs": [
    {
     "name": "stdout",
     "output_type": "stream",
     "text": [
      "📊 Using 8 unique cell names from column 'cell_label'\n",
      "🔄 Loading model my_models/BAAI/bge-base-en-v1.5...\n",
      "📁 Loading local model from: my_models/BAAI/bge-base-en-v1.5\n",
      "✓ Local model loaded successfully!\n",
      "🎯 Mapping 8 cell names...\n"
     ]
    },
    {
     "data": {
      "application/vnd.jupyter.widget-view+json": {
       "model_id": "4bbc2f00277349fd849c8fc526a243fc",
       "version_major": 2,
       "version_minor": 0
      },
      "text/plain": [
       "Batches:   0%|          | 0/1 [00:00<?, ?it/s]"
      ]
     },
     "metadata": {},
     "output_type": "display_data"
    },
    {
     "name": "stdout",
     "output_type": "stream",
     "text": [
      "📝 Applying mapping results to AnnData...\n",
      "✓ Mapping completed: 8/8 cell names have high confidence mapping\n"
     ]
    }
   ],
   "source": [
    "mapping_results = mapper.map_adata(\n",
    "    adata, \n",
    "    cell_name_col='cell_label'\n",
    ")"
   ]
  },
  {
   "cell_type": "code",
   "execution_count": 9,
   "id": "54b2dfb1-22da-4ab3-a551-e3399c1a59e7",
   "metadata": {},
   "outputs": [],
   "source": [
    "# ov.pl.embedding(\n",
    "#    adata,\n",
    "#    basis='X_umap',\n",
    "#    color=['cell_label','cell_ontology','cell_ontology_cl_id','cell_ontology_ontology_id'],\n",
    "#    wspace=0.55,\n",
    "#    ncols=2\n",
    "# )"
   ]
  },
  {
   "cell_type": "code",
   "execution_count": 10,
   "id": "74a6af55-502e-413f-b2b0-2a0bb6ee583c",
   "metadata": {},
   "outputs": [
    {
     "name": "stdout",
     "output_type": "stream",
     "text": [
      "\n",
      "============================================================\n",
      "MAPPING STATISTICS SUMMARY\n",
      "============================================================\n",
      "Total mappings:\t\t8\n",
      "High confidence:\t8 (100.00%)\n",
      "Low confidence:\t\t0\n",
      "Average similarity:\t0.747\n",
      "Median similarity:\t0.750\n",
      "\n",
      "TOP 15 MAPPING RESULTS\n",
      "------------------------------------------------------------\n",
      "✓ Enterocyte -> enterocyte (Similarity: 0.855)\n",
      "✓ Enterocyte.Progenitor -> intestinal enteroendocrine progenitor (Similarity: 0.810)\n",
      "✓ Endocrine -> endocrine process (Similarity: 0.781)\n",
      "✓ Stem -> Brain stem (Similarity: 0.766)\n",
      "✓ Tuft -> tuft cell of anorectum (Similarity: 0.735)\n",
      "✓ TA -> Ttr (Mmus) (Similarity: 0.701)\n",
      "✓ Goblet -> anorectum goblet cell (Similarity: 0.693)\n",
      "✓ TA.Early -> SST (Similarity: 0.637)\n"
     ]
    }
   ],
   "source": [
    "mapper.print_mapping_summary(mapping_results, top_n=15)"
   ]
  },
  {
   "cell_type": "markdown",
   "id": "57aa85f5-0b04-44ad-b001-a145d5401074",
   "metadata": {},
   "source": [
    "## Mapping Cell Types with LLM Assistance\n",
    "\n",
    "In addition, we often use abbreviations to name our cell types, such as `TA` and `TA.Early` in our data sets. Calculating similarity to the Cell Ontology directly can be confusing, so we use an LLM to expand these abbreviated cell names.\n",
    "\n",
    "To do so, specify the following arguments:\n",
    "\n",
    "* **api\\_type**: `openai`, `anthropic`, `ollama`, or any other API that follows the OpenAI format\n",
    "* **tissue\\_context**: the tissue source of the single-cell data set\n",
    "* **species**: the species from which the data set was derived\n",
    "* **study\\_context**: any additional information that may help the model expand the cell-type name\n",
    "* **api_key**: the apikey of your model. \n",
    "\n"
   ]
  },
  {
   "cell_type": "code",
   "execution_count": 11,
   "id": "c5d5e799-beaf-4789-bbf2-1f05c383ef1e",
   "metadata": {},
   "outputs": [
    {
     "name": "stdout",
     "output_type": "stream",
     "text": [
      "✓ Loaded 0 cached abbreviation expansions\n",
      "✗ Missing required library: No module named 'openai'\n",
      "📦 Install required packages based on your API type:\n",
      "   - OpenAI: pip install openai\n",
      "   - Anthropic: pip install anthropic\n",
      "   - 通义千问: pip install dashscope\n",
      "   - 文心一言: pip install ernie-bot-sdk\n",
      "   - 智谱GLM: pip install zhipuai\n",
      "   - Ollama/Spark/Doubao: pip install requests\n"
     ]
    },
    {
     "data": {
      "text/plain": [
       "False"
      ]
     },
     "execution_count": 11,
     "metadata": {},
     "output_type": "execute_result"
    }
   ],
   "source": [
    "mapper.setup_llm_expansion(\n",
    "    api_type=\"openai\", model='gpt-4o-2024-11-20',\n",
    "    tissue_context=\"gut\",    # 组织上下文\n",
    "    species=\"mouse\",                   # 物种信息\n",
    "    study_context=\"Epithelial cells from the small intestine and organoids of mice. Some of the cells were also subject to Salmonella or Heligmosomoides polygyrus infection\",\n",
    "    api_key=\"sk-*\"\n",
    ")\n"
   ]
  },
  {
   "cell_type": "markdown",
   "id": "f3b1a296-8492-4e4c-854e-29c49280f230",
   "metadata": {},
   "source": [
    "You can choose any other model api from the alternative provider, such as `ohmygpt`. But the format of openai should observe the rule of openai."
   ]
  },
  {
   "cell_type": "code",
   "execution_count": 12,
   "id": "6408a31b-0119-4628-985b-992b10ddf2f1",
   "metadata": {},
   "outputs": [
    {
     "name": "stdout",
     "output_type": "stream",
     "text": [
      "✓ Loaded 0 cached abbreviation expansions\n",
      "✗ Missing required library: No module named 'openai'\n",
      "📦 Install required packages based on your API type:\n",
      "   - OpenAI: pip install openai\n",
      "   - Anthropic: pip install anthropic\n",
      "   - 通义千问: pip install dashscope\n",
      "   - 文心一言: pip install ernie-bot-sdk\n",
      "   - 智谱GLM: pip install zhipuai\n",
      "   - Ollama/Spark/Doubao: pip install requests\n"
     ]
    },
    {
     "data": {
      "text/plain": [
       "False"
      ]
     },
     "execution_count": 12,
     "metadata": {},
     "output_type": "execute_result"
    }
   ],
   "source": [
    "mapper.setup_llm_expansion(\n",
    "    api_type=\"custom_openai\",\n",
    "    api_key=\"sk-*\",\n",
    "    model=\"gpt-4.1-2025-04-14\",\n",
    "    base_url=\"https://api.ohmygpt.com/v1\"\n",
    ")"
   ]
  },
  {
   "cell_type": "code",
   "execution_count": 13,
   "id": "dc35bd29-f4d9-4b92-91d8-8d79b9823722",
   "metadata": {
    "scrolled": true
   },
   "outputs": [
    {
     "name": "stdout",
     "output_type": "stream",
     "text": [
      "📊 Using 8 unique cell names from column 'cell_label'\n",
      "⚠️  Abbreviation expansion requested but LLM client not configured\n",
      "💡 To enable LLM expansion, use: mapper.setup_llm_expansion()\n",
      "🎯 Performing direct ontology mapping with LLM selection\n",
      "🎯 Mapping 8 cell names...\n"
     ]
    },
    {
     "data": {
      "application/vnd.jupyter.widget-view+json": {
       "model_id": "9255d97e2dd546aa89aaa66d6bb73866",
       "version_major": 2,
       "version_minor": 0
      },
      "text/plain": [
       "Batches:   0%|          | 0/1 [00:00<?, ?it/s]"
      ]
     },
     "metadata": {},
     "output_type": "display_data"
    },
    {
     "name": "stdout",
     "output_type": "stream",
     "text": [
      "\n",
      "📝 Applying mapping results to AnnData...\n",
      "✓ Mapping completed:\n",
      "  📊 8/8 cell names have high confidence mapping\n",
      "  🔄 0/8 cell names underwent abbreviation expansion\n",
      "\n",
      "============================================================\n",
      "MAPPING STATISTICS SUMMARY\n",
      "============================================================\n",
      "Total mappings:\t\t8\n",
      "High confidence:\t8 (100.00%)\n",
      "Low confidence:\t\t0\n",
      "Average similarity:\t0.747\n",
      "Median similarity:\t0.750\n",
      "\n",
      "TOP 15 MAPPING RESULTS\n",
      "------------------------------------------------------------\n",
      "✓ Enterocyte -> enterocyte (Similarity: 0.855)\n",
      "✓ Enterocyte.Progenitor -> intestinal enteroendocrine progenitor (Similarity: 0.810)\n",
      "✓ Endocrine -> endocrine process (Similarity: 0.781)\n",
      "✓ Stem -> Brain stem (Similarity: 0.766)\n",
      "✓ Tuft -> tuft cell of anorectum (Similarity: 0.735)\n",
      "✓ TA -> Ttr (Mmus) (Similarity: 0.701)\n",
      "✓ Goblet -> anorectum goblet cell (Similarity: 0.693)\n",
      "✓ TA.Early -> SST (Similarity: 0.637)\n"
     ]
    }
   ],
   "source": [
    "mapping_results = mapper.map_adata_with_expansion(\n",
    "    adata=adata,\n",
    "    cell_name_col='cell_label',\n",
    "    threshold=0.5,\n",
    "    expand_abbreviations=True  # 启用缩写扩展\n",
    ")\n",
    "mapper.print_mapping_summary(mapping_results, top_n=15)"
   ]
  },
  {
   "cell_type": "code",
   "execution_count": 14,
   "id": "a0ec1a9f-eca0-4257-8ee1-0e830c70ebec",
   "metadata": {},
   "outputs": [],
   "source": [
    "#ov.pl.embedding(\n",
    "#    adata,\n",
    "#    basis='X_umap',\n",
    "#    color=['cell_label','cell_ontology','cell_ontology_cl_id','cell_ontology_ontology_id'],\n",
    "#    wspace=0.55,\n",
    "#    ncols=2\n",
    "#)"
   ]
  },
  {
   "cell_type": "markdown",
   "id": "837ac5b2-5a73-41ad-939e-e1e42d7dd5f2",
   "metadata": {},
   "source": [
    "We can now see that `TA` and `TA.Early` map successfully to `transit amplifying cell`."
   ]
  },
  {
   "cell_type": "markdown",
   "id": "74927d12-2b99-4ae4-81b0-b34b820731f9",
   "metadata": {},
   "source": [
    "## Cell Taxonomy\n",
    "\n",
    "To enhance the annotation of cell type, we can choose not only from Cell Ontology, we can also use `Cell Taxonomy` database as another reference."
   ]
  },
  {
   "cell_type": "code",
   "execution_count": 15,
   "id": "4ad981c6-fa87-46bd-9255-7ed34a6533db",
   "metadata": {},
   "outputs": [],
   "source": [
    "# !wget https://download.cncb.ac.cn/celltaxonomy/Cell_Taxonomy_resource.txt -O new_ontology/Cell_Taxonomy_resource.txt"
   ]
  },
  {
   "cell_type": "code",
   "execution_count": 16,
   "id": "8012efdf-77e7-4087-8345-2382781a2c2e",
   "metadata": {},
   "outputs": [
    {
     "name": "stdout",
     "output_type": "stream",
     "text": [
      "📊 Loading Cell Taxonomy resource from: new_ontology/Cell_Taxonomy_resource.txt\n",
      "✓ Loaded 226222 taxonomy entries\n",
      "🐭 Filtered by species ['Homo sapiens', 'Mus musculus']: 224736/226222 entries\n",
      "🧠 Creating embeddings for 2540 taxonomy cell types...\n"
     ]
    },
    {
     "data": {
      "application/vnd.jupyter.widget-view+json": {
       "model_id": "4499492162664ffd89b5e3ed739d0773",
       "version_major": 2,
       "version_minor": 0
      },
      "text/plain": [
       "Batches:   0%|          | 0/80 [00:00<?, ?it/s]"
      ]
     },
     "metadata": {},
     "output_type": "display_data"
    },
    {
     "name": "stdout",
     "output_type": "stream",
     "text": [
      "✓ Created taxonomy embeddings for 2540 cell types\n",
      "📈 Species distribution:\n",
      "  🐭 Mus musculus: 141727 entries\n",
      "  🐭 Homo sapiens: 83009 entries\n",
      "🧬 Unique cell types: 2540\n",
      "🎯 Unique markers: 25818\n"
     ]
    },
    {
     "data": {
      "text/plain": [
       "True"
      ]
     },
     "execution_count": 16,
     "metadata": {},
     "output_type": "execute_result"
    }
   ],
   "source": [
    "mapper.load_cell_taxonomy_resource(\"new_ontology/Cell_Taxonomy_resource.txt\", \n",
    "                                   species_filter=[\"Homo sapiens\", \"Mus musculus\"])"
   ]
  },
  {
   "cell_type": "markdown",
   "id": "b4e92eb4-7019-46a1-b281-b0c957c74191",
   "metadata": {},
   "source": [
    "Similiarly, we can use `map_adata_with_taxonomy` to perform the mapping."
   ]
  },
  {
   "cell_type": "code",
   "execution_count": 17,
   "id": "d7fa81ce-d433-4ca7-8c39-121377c5fe2b",
   "metadata": {},
   "outputs": [
    {
     "name": "stdout",
     "output_type": "stream",
     "text": [
      "📊 Using 8 unique cell names from column 'cell_label'\n",
      "⚠️  Abbreviation expansion requested but LLM client not configured\n",
      "💡 To enable LLM expansion, use: mapper.setup_llm_expansion()\n",
      "🎯 Performing direct ontology mapping with LLM selection\n",
      "🎯 Mapping 8 cell names...\n"
     ]
    },
    {
     "data": {
      "application/vnd.jupyter.widget-view+json": {
       "model_id": "2460c1cc70264b91b7dca22caec0aff1",
       "version_major": 2,
       "version_minor": 0
      },
      "text/plain": [
       "Batches:   0%|          | 0/1 [00:00<?, ?it/s]"
      ]
     },
     "metadata": {},
     "output_type": "display_data"
    },
    {
     "name": "stdout",
     "output_type": "stream",
     "text": [
      "\n",
      "📊 Enhancing with taxonomy resource using NLP similarity...\n",
      "🧬 Taxonomy enhancement: Processing 8 cell names...\n",
      "      ✓ Taxonomy match: 'Enterocyte.Progenitor' → 'Enterocyte progenitor cell' (Homo sapiens) (sim: 0.922)\n",
      "      ✓ Taxonomy match: 'intestinal enteroendocrine progenitor' → 'Enteroendocrine progenitor cell' (Mus musculus) (sim: 0.951)\n",
      "      ✓ Taxonomy match: 'Stem' → 'Stem cell' (Mus musculus) (sim: 0.710)\n",
      "      ✓ Taxonomy match: 'Brain stem' → 'Brainstem motor neuron' (Mus musculus) (sim: 0.733)\n",
      "      ✓ Taxonomy match: 'TA.Early' → 'Early T lineage precursor' (Mus musculus) (sim: 0.688)\n",
      "      ✓ Taxonomy match: 'SST' → 'Sst GABAergic cortical interneuron' (Mus musculus) (sim: 0.743)\n",
      "      ✓ Taxonomy match: 'TA' → 'Transit amplifying cell' (Mus musculus) (sim: 0.636)\n",
      "      ✓ Taxonomy match: 'Tuft' → 'Intestinal tuft cell' (Mus musculus) (sim: 0.769)\n",
      "      ✓ Taxonomy match: 'tuft cell of anorectum' → 'Tuft cell of colon' (Homo sapiens) (sim: 0.896)\n",
      "      ✓ Taxonomy match: 'Enterocyte' → 'Enterocyte' (Mus musculus) (sim: 1.000)\n",
      "      ✓ Taxonomy match: 'Goblet' → 'Goblet cell' (Mus musculus) (sim: 0.857)\n",
      "      ✓ Taxonomy match: 'Endocrine' → 'Endocrine cell' (Mus musculus) (sim: 0.864)\n",
      "\n",
      "📝 Applying enhanced mapping results to AnnData...\n",
      "✓ Enhanced mapping completed:\n",
      "  📊 8/8 high confidence mappings\n",
      "  📊 0/8 medium confidence mappings\n",
      "  📊 0/8 low confidence mappings\n",
      "  🔄 0/8 abbreviation expansions\n",
      "  📊 8/8 enhanced with taxonomy resource\n"
     ]
    }
   ],
   "source": [
    "enhanced_results = mapper.map_adata_with_taxonomy(\n",
    "    adata, \n",
    "    cell_name_col=\"cell_label\",\n",
    "    new_col_name=\"enhanced_cell_ontology\",\n",
    "    expand_abbreviations=True,\n",
    "    use_taxonomy=True,\n",
    "    species=\"Mus musculus\",\n",
    "    tissue_context=\"Gut\",\n",
    "    threshold=0.3,\n",
    ")"
   ]
  },
  {
   "cell_type": "code",
   "execution_count": 18,
   "id": "94e795cd-7752-4e63-9ab1-6082972c289a",
   "metadata": {},
   "outputs": [
    {
     "name": "stdout",
     "output_type": "stream",
     "text": [
      "\n",
      "================================================================================\n",
      "ENHANCED MAPPING SUMMARY (ONTOLOGY + TAXONOMY)\n",
      "================================================================================\n",
      "Total mappings:\t\t8\n",
      "High confidence:\t8 (100.00%)\n",
      "Low confidence:\t\t0\n",
      "Average similarity:\t0.747\n",
      "LLM expansions:\t\t0\n",
      "Taxonomy enhanced:\t8\n",
      "\n",
      "DETAILED MAPPING RESULTS (Top 10)\n",
      "--------------------------------------------------------------------------------\n",
      "\n",
      " 1. [✓] Enterocyte\n",
      "     🎯 Ontology: enterocyte\n",
      "        Similarity: 0.855\n",
      "        CL ID: CL:0000584\n",
      "     🧬 Taxonomy: Enterocyte\n",
      "        Similarity: 1.000\n",
      "        Matched from: Enterocyte\n",
      "        CT ID: CT:00000594\n",
      "        🎯 Marker: Btnl1\n",
      "        🧬 Gene: Btn,Btnl3,Gm316,Gm33,NG1\n",
      "        🆔 ENTREZ: 100038862\n",
      "\n",
      "\n",
      " 2. [✓] Enterocyte.Progenitor\n",
      "     🎯 Ontology: intestinal enteroendocrine progenitor\n",
      "        Similarity: 0.810\n",
      "        CL ID: CL:4052006\n",
      "     🧬 Taxonomy: Enteroendocrine progenitor cell\n",
      "        Similarity: 0.951\n",
      "        Matched from: intestinal enteroendocrine progenitor\n",
      "        CT ID: CT:00002674\n",
      "        🎯 Marker: Neurog3\n",
      "        🧬 Gene: Ato,Atoh5,Math4,Math4B,bHLH,bHLHa7,ng,ngn3,NEUROG3\n",
      "        🆔 ENTREZ: 11925\n",
      "\n",
      "\n",
      " 3. [✓] Endocrine\n",
      "     🎯 Ontology: endocrine process\n",
      "        Similarity: 0.781\n",
      "        CL ID: None\n",
      "     🧬 Taxonomy: Endocrine cell\n",
      "        Similarity: 0.864\n",
      "        Matched from: Endocrine\n",
      "        CT ID: CT:00000227\n",
      "        🎯 Marker: Cyb5r3\n",
      "        🧬 Gene: 0610016L08Rik,2500002N19Rik,B5R,C85115,Di,Dia,Dia-1,Dia1,WU:Cyb5r3\n",
      "        🆔 ENTREZ: 109754\n",
      "\n",
      "\n",
      " 4. [✓] Stem\n",
      "     🎯 Ontology: Brain stem\n",
      "        Similarity: 0.766\n",
      "        CL ID: None\n",
      "     🧬 Taxonomy: Brainstem motor neuron\n",
      "        Similarity: 0.733\n",
      "        Matched from: Brain stem\n",
      "        CT ID: CT:00002328\n",
      "        🎯 Marker: Grm5\n",
      "        🧬 Gene: 6430542K11Rik,AI850523,Glu,Glu5R,Gprc,Gprc1e,mGlu,mGluR5,mGluR5b\n",
      "        🆔 ENTREZ: 108071\n",
      "\n",
      "\n",
      " 5. [✓] Tuft\n",
      "     🎯 Ontology: tuft cell of anorectum\n",
      "        Similarity: 0.735\n",
      "        CL ID: CL:0009065\n",
      "     🧬 Taxonomy: Tuft cell of colon\n",
      "        Similarity: 0.896\n",
      "        Matched from: tuft cell of anorectum\n",
      "        CT ID: CT:00002699\n",
      "        🎯 Marker: POU2F3\n",
      "        🧬 Gene: Epoc-1,OCT-11,OCT11,OTF-11,PLA-1,PLA1,Skn-1a\n",
      "        🆔 ENTREZ: 25833\n",
      "\n",
      "\n",
      " 6. [✓] TA\n",
      "     🎯 Ontology: Ttr (Mmus)\n",
      "        Similarity: 0.701\n",
      "        CL ID: None\n",
      "     🧬 Taxonomy: Transit amplifying cell\n",
      "        Similarity: 0.636\n",
      "        Matched from: TA\n",
      "        CT ID: CT:00001800\n",
      "        🎯 Marker: Rpl18a\n",
      "        🧬 Gene: 2510019J09Rik\n",
      "        🆔 ENTREZ: 76808\n",
      "\n",
      "\n",
      " 7. [✓] Goblet\n",
      "     🎯 Ontology: anorectum goblet cell\n",
      "        Similarity: 0.693\n",
      "        CL ID: CL:0009057\n",
      "     🧬 Taxonomy: Goblet cell\n",
      "        Similarity: 0.857\n",
      "        Matched from: Goblet\n",
      "        CT ID: CT:00000223\n",
      "        🎯 Marker: Gal3st2b\n",
      "        🧬 Gene: Gal3ST-2,Gal3st2,Gm9994\n",
      "        🆔 ENTREZ: 100041596\n",
      "\n",
      "\n",
      " 8. [✓] TA.Early\n",
      "     🎯 Ontology: SST\n",
      "        Similarity: 0.637\n",
      "        CL ID: None\n",
      "     🧬 Taxonomy: Sst GABAergic cortical interneuron\n",
      "        Similarity: 0.743\n",
      "        Matched from: SST\n",
      "        CT ID: CT:00002716\n",
      "        🎯 Marker: Sst\n",
      "        🧬 Gene: S,SOM,SRIF,SS,Sm,Smst\n",
      "        🆔 ENTREZ: 20604\n",
      "\n",
      "\n",
      "================================================================================\n"
     ]
    }
   ],
   "source": [
    "mapper.print_mapping_summary_taxonomy(enhanced_results)"
   ]
  },
  {
   "cell_type": "code",
   "execution_count": 19,
   "id": "2c608806-ebbe-43a2-a95f-41b133539502",
   "metadata": {},
   "outputs": [],
   "source": [
    "#ov.pl.embedding(\n",
    "#    adata,\n",
    "#    basis='X_umap',\n",
    "#    color=['cell_label','cell_ontology','cell_ontology_cl_id','cell_ontology_ontology_id',\n",
    "#          'enhanced_cell_ontology_taxonomy_match','enhanced_cell_ontology_ct_id'],\n",
    "#    wspace=0.55,\n",
    "#    ncols=2\n",
    "#)"
   ]
  },
  {
   "cell_type": "markdown",
   "id": "b43632f6-d6df-435b-a8b0-110021efa2eb",
   "metadata": {},
   "source": [
    "## Mapping Check\n",
    "\n",
    "We can also query the matching result manually."
   ]
  },
  {
   "cell_type": "code",
   "execution_count": 20,
   "id": "005a3c65-6e94-4189-8672-b9d9709169f6",
   "metadata": {},
   "outputs": [
    {
     "name": "stdout",
     "output_type": "stream",
     "text": [
      "\n",
      "🎯 Ontology cell types most similar to 'T helper cell':\n",
      " 1. helper T cell                            (Similarity: 0.840)\n",
      " 2. CD4-positive helper T cell               (Similarity: 0.783)\n",
      " 3. T-helper 9 cell                          (Similarity: 0.776)\n",
      " 4. T cell domain                            (Similarity: 0.760)\n",
      " 5. T-helper 2 cell activation               (Similarity: 0.755)\n",
      " 6. T-helper 1 cell activation               (Similarity: 0.754)\n",
      " 7. T-helper cell differentiation            (Similarity: 0.753)\n",
      " 8. T-helper 1 cell                          (Similarity: 0.752)\n",
      " 9. T-helper 2 cell chemotaxis               (Similarity: 0.752)\n",
      "10. regulation of T-helper 2 cell activation (Similarity: 0.747)\n",
      "\n",
      "🎯 Ontology cell types most similar to 'Macrophage':\n",
      " 1. cycling macrophage                       (Similarity: 0.834)\n",
      " 2. pleural macrophage                       (Similarity: 0.824)\n",
      " 3. macrophage                               (Similarity: 0.816)\n",
      " 4. central nervous system macrophage        (Similarity: 0.814)\n",
      " 5. lung macrophage                          (Similarity: 0.813)\n",
      " 6. thymic medullary macrophage              (Similarity: 0.806)\n",
      " 7. thymic cortical macrophage               (Similarity: 0.805)\n",
      " 8. adipose macrophage                       (Similarity: 0.803)\n"
     ]
    }
   ],
   "source": [
    "res=mapper.find_similar_cells(\"T helper cell\", top_k=10)\n",
    "res=mapper.find_similar_cells(\"Macrophage\", top_k=8)"
   ]
  },
  {
   "cell_type": "code",
   "execution_count": 21,
   "id": "5e7f155c-cd78-4d6e-8635-92e91d966a31",
   "metadata": {
    "scrolled": true
   },
   "outputs": [
    {
     "name": "stdout",
     "output_type": "stream",
     "text": [
      "\n",
      "🧬 Taxonomy cell types most similar to 'T helper cell':\n",
      " 1. Helper T cell                            (Similarity: 0.921)\n",
      "     🐭 Species: Mus musculus\n",
      "     🎯 Marker: Tigit\n",
      "     🆔 CT ID: CT:00000919\n",
      "\n",
      " 2. T-helper 2 cell                          (Similarity: 0.892)\n",
      "     🐭 Species: Homo sapiens\n",
      "     🎯 Marker: BATF\n",
      "     🆔 CT ID: CT:00000503\n",
      "\n"
     ]
    }
   ],
   "source": [
    "# Enterocyte.Progenitor\n",
    "res=mapper.find_similar_cells_taxonomy(\"T helper cell\", top_k=2)"
   ]
  },
  {
   "cell_type": "code",
   "execution_count": 22,
   "id": "9ea2de2d-10b4-472f-ab86-3713182dad99",
   "metadata": {},
   "outputs": [
    {
     "name": "stdout",
     "output_type": "stream",
     "text": [
      "\n",
      "ℹ️  === regulatory T cell ===\n",
      "🆔 Ontology ID: http://purl.obolibrary.org/obo/CL_0000815\n",
      "📝 Description: regulatory T cell: A T cell which regulates overall immune responses as well as the responses of other T cell subsets through direct cell-cell contact and cytokine release. This cell type may express FoxP3 and CD25 and secretes IL-10 and TGF-beta.\n"
     ]
    },
    {
     "data": {
      "text/plain": [
       "{'name': 'regulatory T cell',\n",
       " 'description': 'regulatory T cell: A T cell which regulates overall immune responses as well as the responses of other T cell subsets through direct cell-cell contact and cytokine release. This cell type may express FoxP3 and CD25 and secretes IL-10 and TGF-beta.',\n",
       " 'ontology_id': 'http://purl.obolibrary.org/obo/CL_0000815'}"
      ]
     },
     "execution_count": 22,
     "metadata": {},
     "output_type": "execute_result"
    }
   ],
   "source": [
    "mapper.get_cell_info(\"regulatory T cell\")"
   ]
  },
  {
   "cell_type": "code",
   "execution_count": 23,
   "id": "1d283bc6-91a0-4d12-b483-f1ea70396984",
   "metadata": {
    "scrolled": true
   },
   "outputs": [
    {
     "name": "stdout",
     "output_type": "stream",
     "text": [
      "\n",
      "🧬 === Cell Taxonomy Information: Helper T cell ===\n",
      "\n",
      "📊 Entry 1:\n",
      "🐭 Species: Mus musculus\n",
      "🆔 CT ID: CT:00000919\n",
      "🎯 Cell Marker: Tigit\n",
      "🔗 Cell Ontology ID: CL:0000912\n",
      "🧬 Gene Information:\n",
      "   Gene Alias: Vst,Vstm3\n",
      "   ENTREZ ID: 100043314\n",
      "   Ensembl ID: ENSMUSG00000071552\n",
      "   UniProt: A0A0B4J1G6\n",
      "   PFAM: PF07686\n",
      "   GO Terms: GO:0005102,GO:0005102,GO:0005102,GO:0005515,GO:0009986,GO:0009986,GO:0009986,GO:0032695,GO:0032695,G...\n",
      "🧬 Tissue Ontology ID: nan\n",
      "📚 PMID: 34548483\n",
      "📄 Source: OnClass\n",
      "\n",
      "📊 Entry 2:\n",
      "🐭 Species: Mus musculus\n",
      "🆔 CT ID: CT:00000919\n",
      "🎯 Cell Marker: Klrb1\n",
      "🔗 Cell Ontology ID: CL:0000912\n",
      "🧬 Gene Information:\n",
      "   Gene Alias: 4930431A04Rik,Gm4696,Klrb1g,Klrb6,Ly-5,Ly-55,Ly5,Ly55,NKR-P1G,Nkr,Nkrp-1e,Nkrp1g\n",
      "   ENTREZ ID: 100043861\n",
      "   Ensembl ID: ENSMUSG00000079299\n",
      "   UniProt: A0A1U9W1A8,Q0ZUP1\n",
      "   PFAM: PF00059\n",
      "   GO Terms: GO:0005515,GO:0016020,GO:0016021,GO:0030246,GO:0038023\n",
      "🧬 Tissue Ontology ID: UBERON:0002405\n",
      "📚 PMID: nan\n",
      "📄 Source: PanglaoDB\n",
      "\n",
      "📊 Entry 3:\n",
      "🐭 Species: Mus musculus\n",
      "🆔 CT ID: CT:00000919\n",
      "🎯 Cell Marker: Cnot6\n",
      "🔗 Cell Ontology ID: CL:0000912\n",
      "🧬 Gene Information:\n",
      "   Gene Alias: CCR4\n",
      "   ENTREZ ID: 104625\n",
      "   Ensembl ID: ENSMUSG00000020362\n",
      "   UniProt: Q8K3P5\n",
      "   PFAM: PF03372,PF13855\n",
      "   GO Terms: GO:0000175,GO:0000289,GO:0000289,GO:0003723,GO:0004518,GO:0004527,GO:0004532,GO:0004535,GO:0004535,G...\n",
      "🧬 Tissue Ontology ID: UBERON:0002405\n",
      "📚 PMID: nan\n",
      "📄 Source: PanglaoDB\n",
      "\n",
      "📊 Entry 4:\n",
      "🐭 Species: Mus musculus\n",
      "🆔 CT ID: CT:00000919\n",
      "🎯 Cell Marker: Cxcr5\n",
      "🔗 Cell Ontology ID: CL:0000912\n",
      "🧬 Gene Information:\n",
      "   Gene Alias: Bl,Blr1,CXC-R5,CXCR-,CXCR-5,Gpc,Gpcr6,MDR15\n",
      "   ENTREZ ID: 12145\n",
      "   Ensembl ID: ENSMUSG00000047880\n",
      "   UniProt: Q04683\n",
      "   PFAM: PF00001\n",
      "   GO Terms: GO:0004930,GO:0005886,GO:0006935,GO:0006955,GO:0007165,GO:0007186,GO:0007204,GO:0009897,GO:0009897,G...\n",
      "🧬 Tissue Ontology ID: nan\n",
      "📚 PMID: nan\n",
      "📄 Source: CellMarker\n",
      "\n",
      "📊 Entry 5:\n",
      "🐭 Species: Mus musculus\n",
      "🆔 CT ID: CT:00000919\n",
      "🎯 Cell Marker: Ccr6\n",
      "🔗 Cell Ontology ID: CL:0000912\n",
      "🧬 Gene Information:\n",
      "   Gene Alias: CC-CKR-6,CCR-6,Cmkbr,Cmkbr6,KY411\n",
      "   ENTREZ ID: 12458\n",
      "   Ensembl ID: ENSMUSG00000040899\n",
      "   UniProt: O54689,Q542B6\n",
      "   PFAM: PF00001\n",
      "   GO Terms: GO:0002523,GO:0004930,GO:0004950,GO:0005515,GO:0005886,GO:0006935,GO:0006935,GO:0006935,GO:0006955,G...\n",
      "🧬 Tissue Ontology ID: UBERON:0002405\n",
      "📚 PMID: nan\n",
      "📄 Source: PanglaoDB\n",
      "\n",
      "... and 78 more entries (use species filter to narrow results)\n"
     ]
    }
   ],
   "source": [
    "# 获取详细的taxonomy信息\n",
    "info_list = mapper.get_cell_info_taxonomy(\n",
    "    \"Helper T cell\", \n",
    "    species=\"Mus musculus\"\n",
    ")"
   ]
  },
  {
   "cell_type": "code",
   "execution_count": 24,
   "id": "b187b750-0ef2-4692-b418-c1488fcee4df",
   "metadata": {},
   "outputs": [
    {
     "name": "stdout",
     "output_type": "stream",
     "text": [
      "✗ Cell type not found: regulatory T cells\n",
      "🔍 Found 0 cell types containing 'regulatory t cells':\n"
     ]
    }
   ],
   "source": [
    "mapper.get_cell_info(\"regulatory T cells\")"
   ]
  },
  {
   "cell_type": "code",
   "execution_count": 25,
   "id": "7c84c849-3a40-4177-bffc-a77533f6d7eb",
   "metadata": {},
   "outputs": [
    {
     "name": "stdout",
     "output_type": "stream",
     "text": [
      "📂 === Browse Ontology Cell Types by Category ===\n",
      "\n",
      "🔍 Found 0 cell types containing 'immune cell':\n",
      "--------------------------------------------------\n",
      "🔍 Found 398 cell types containing 'epithelial':\n",
      "  1. NS forest marker set of airway submucosal gland collecting duct epithelial cell (Human lung).\n",
      "  2. epithelial fate stem cell\n",
      "  3. epithelial cell\n",
      "  4. ciliated epithelial cell\n",
      "  5. duct epithelial cell\n",
      "... 393 more results\n",
      "\n",
      "🏷️  【epithelial related】 (Showing top 5):\n",
      "  1. NS forest marker set of airway submucosal gland collecting duct epithelial cell (Human lung).\n",
      "  2. epithelial fate stem cell\n",
      "  3. epithelial cell\n",
      "  4. ciliated epithelial cell\n",
      "  5. duct epithelial cell\n",
      "--------------------------------------------------\n"
     ]
    }
   ],
   "source": [
    "my_categories = [\"immune cell\", \"epithelial\"]\n",
    "mapper.browse_ontology_by_category(categories=my_categories, max_per_category=5)"
   ]
  },
  {
   "cell_type": "code",
   "execution_count": 26,
   "id": "3ab20337-f1f3-4279-9159-7df989281942",
   "metadata": {},
   "outputs": [
    {
     "name": "stdout",
     "output_type": "stream",
     "text": [
      "📊 Total 18426 cell types in ontology\n",
      "\n",
      "📋 First 10 cell types:\n",
      "  1. TAC1\n",
      "  2. STAB1\n",
      "  3. TLL1\n",
      "  4. MSR1\n",
      "  5. TNC\n",
      "  6. ROS1\n",
      "  7. TNIP3\n",
      "  8. HOMER3\n",
      "  9. FCGR2B\n",
      " 10. BPIFB2\n",
      "... 18416 more cell types\n",
      "💡 Use return_all=True to get complete list\n"
     ]
    }
   ],
   "source": [
    "# 查看前50个细胞类型\n",
    "res=mapper.list_ontology_cells(max_display=10)\n"
   ]
  },
  {
   "cell_type": "code",
   "execution_count": 27,
   "id": "add04b78-78fb-47e4-b3e5-df7e1a2fe06b",
   "metadata": {},
   "outputs": [
    {
     "name": "stdout",
     "output_type": "stream",
     "text": [
      "📊 === Ontology Statistics ===\n",
      "📝 Total cell types: 18426\n",
      "📏 Average name length: 31.4 characters\n",
      "📏 Shortest name length: 3 characters\n",
      "📏 Longest name length: 144 characters\n",
      "\n",
      "🔤 Most common words:\n",
      "  of: 5647 times\n",
      "  cell: 3955 times\n",
      "  regulation: 3246 times\n",
      "  negative: 1030 times\n",
      "  positive: 1026 times\n",
      "  process: 990 times\n",
      "  development: 883 times\n",
      "  differentiation: 730 times\n",
      "  muscle: 675 times\n",
      "  in: 594 times\n"
     ]
    }
   ],
   "source": [
    "# 了解本体论的整体情况\n",
    "stats = mapper.get_ontology_statistics()"
   ]
  },
  {
   "cell_type": "code",
   "execution_count": null,
   "id": "baea7361-5b16-49bf-8408-52bfe6715245",
   "metadata": {},
   "outputs": [],
   "source": []
  }
 ],
 "metadata": {
  "kernelspec": {
   "display_name": "omicverse_conda",
   "language": "python",
   "name": "python3"
  },
  "language_info": {
   "codemirror_mode": {
    "name": "ipython",
    "version": 3
   },
   "file_extension": ".py",
   "mimetype": "text/x-python",
   "name": "python",
   "nbconvert_exporter": "python",
   "pygments_lexer": "ipython3",
   "version": "3.11.13"
  },
  "widgets": {
   "application/vnd.jupyter.widget-state+json": {
    "state": {},
    "version_major": 2,
    "version_minor": 0
   }
  }
 },
 "nbformat": 4,
 "nbformat_minor": 5
}
