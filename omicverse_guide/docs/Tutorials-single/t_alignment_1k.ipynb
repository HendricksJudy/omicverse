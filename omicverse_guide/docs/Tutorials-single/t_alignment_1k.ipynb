{
 "cells": [
  {
   "cell_type": "markdown",
   "id": "427422b0-4404-488c-8d58-0d44562f3ff7",
   "metadata": {},
   "source": [
    "# Alignment and analysis of single-cell RNA-seq data\n",
    "\n",
    "The kallisto, bustools and kb-python programs are free, open-source software tools for performing this analysis that together can produce gene expression quantification from raw sequencing reads. In this tutorial, we pre-processed the [pbmc_1k v3 dataset](https://support.10xgenomics.com/single-cell-gene-expression/datasets/3.0.0/pbmc_1k_v3) from 10X Genomics with kallisto and bustools, and then performed an basic analysis.\n",
    "\n",
    "We made an improvement in integrating the kallisto, bustools and kb-python program in OmicVerse:\n",
    "\n",
    "* **More user-friendly function implementation**： we automated their encapsulation into the ```omicverse.alignment``` class.\n",
    "\n",
    "If you found this tutorial helpful, please cite kb-python and OmicVerse:\n",
    "\n",
    "* Sullivan, D.K., Min, K.H.(., Hjörleifsson, K.E. et al. kallisto, bustools and kb-python for quantifying bulk, single-cell and single-nucleus RNA-seq. Nature Protocol (2025).\n",
    "https://doi.org/10.1038/s41596-024-01057-0\n",
    "\n",
    "* Melsted, P., Booeshaghi, A.S., Liu, L. et al. Modular, efficient and constant-memory single-cell RNA-seq preprocessing. Nature Biotechnology (2021). https://doi.org/10.1038/s41587-021-00870-2"
   ]
  },
  {
   "cell_type": "code",
   "execution_count": 15,
   "id": "1174705e-de02-4184-8fc4-9dfeb9f1171b",
   "metadata": {},
   "outputs": [
    {
     "name": "stdout",
     "output_type": "stream",
     "text": [
      "🔬 Starting plot initialization...\n",
      "Using already downloaded Arial font from: /tmp/omicverse_arial.ttf\n",
      "Registered as: Arial\n",
      "🧬 Detecting GPU devices…\n",
      "✅ NVIDIA CUDA GPUs detected: 8\n",
      "    • [CUDA 0] NVIDIA GeForce RTX 4090 D\n",
      "      Memory: 23.6 GB | Compute: 8.9\n",
      "    • [CUDA 1] NVIDIA GeForce RTX 4090 D\n",
      "      Memory: 23.6 GB | Compute: 8.9\n",
      "    • [CUDA 2] NVIDIA GeForce RTX 4090 D\n",
      "      Memory: 23.6 GB | Compute: 8.9\n",
      "    • [CUDA 3] NVIDIA GeForce RTX 4090 D\n",
      "      Memory: 23.6 GB | Compute: 8.9\n",
      "    • [CUDA 4] NVIDIA GeForce RTX 4090 D\n",
      "      Memory: 23.6 GB | Compute: 8.9\n",
      "    • [CUDA 5] NVIDIA GeForce RTX 4090 D\n",
      "      Memory: 23.6 GB | Compute: 8.9\n",
      "    • [CUDA 6] NVIDIA GeForce RTX 4090 D\n",
      "      Memory: 23.6 GB | Compute: 8.9\n",
      "    • [CUDA 7] NVIDIA GeForce RTX 4090 D\n",
      "      Memory: 23.6 GB | Compute: 8.9\n",
      "✅ plot_set complete.\n",
      "\n"
     ]
    }
   ],
   "source": [
    "import omicverse as ov\n",
    "import scanpy as sc\n",
    "import pandas as pd\n",
    "import numpy as np\n",
    "ov.plot_set(font_path='Arial')"
   ]
  },
  {
   "cell_type": "markdown",
   "id": "047254b1-607f-4b78-a30a-eb30b2555fd7",
   "metadata": {},
   "source": [
    "## Download human reference files and build the index\n",
    "We build a human cDNA and intron index from the human genome and annotations provided by Ensembl."
   ]
  },
  {
   "cell_type": "code",
   "execution_count": 2,
   "id": "8e9113bf-c455-4e70-85a1-d99ec7234f12",
   "metadata": {},
   "outputs": [
    {
     "name": "stdout",
     "output_type": "stream",
     "text": [
      "--2025-10-23 10:16:40--  ftp://ftp.ensembl.org/pub/release-108/fasta/homo_sapiens/dna/Homo_sapiens.GRCh38.dna.primary_assembly.fa.gz\n",
      "           => ‘pbmc_1k_v3/Homo_sapiens.GRCh38.dna.primary_assembly.fa.gz’\n",
      "Resolving ftp.ensembl.org (ftp.ensembl.org)... 193.62.193.169\n",
      "Connecting to ftp.ensembl.org (ftp.ensembl.org)|193.62.193.169|:21... connected.\n",
      "Logging in as anonymous ... Logged in!\n",
      "==> SYST ... done.    ==> PWD ... done.\n",
      "==> TYPE I ... done.  ==> CWD (1) /pub/release-108/fasta/homo_sapiens/dna ... done.\n",
      "==> SIZE Homo_sapiens.GRCh38.dna.primary_assembly.fa.gz ... 881211416\n",
      "==> PASV ... done.    ==> RETR Homo_sapiens.GRCh38.dna.primary_assembly.fa.gz ... done.\n",
      "Length: 881211416 (840M) (unauthoritative)\n",
      "\n",
      "Homo_sapiens.GRCh38 100%[===================>] 840.39M   360KB/s    in 13m 48s \n",
      "\n",
      "2025-10-23 10:30:32 (1.02 MB/s) - ‘pbmc_1k_v3/Homo_sapiens.GRCh38.dna.primary_assembly.fa.gz’ saved [881211416]\n",
      "\n",
      "--2025-10-23 10:30:32--  ftp://ftp.ensembl.org/pub/release-108/gtf/homo_sapiens/Homo_sapiens.GRCh38.108.gtf.gz\n",
      "           => ‘pbmc_1k_v3/Homo_sapiens.GRCh38.108.gtf.gz’\n",
      "Resolving ftp.ensembl.org (ftp.ensembl.org)... 193.62.193.169\n",
      "Connecting to ftp.ensembl.org (ftp.ensembl.org)|193.62.193.169|:21... connected.\n",
      "Logging in as anonymous ... Logged in!\n",
      "==> SYST ... done.    ==> PWD ... done.\n",
      "==> TYPE I ... done.  ==> CWD (1) /pub/release-108/gtf/homo_sapiens ... done.\n",
      "==> SIZE Homo_sapiens.GRCh38.108.gtf.gz ... 54107597\n",
      "==> PASV ... done.    ==> RETR Homo_sapiens.GRCh38.108.gtf.gz ... done.\n",
      "Length: 54107597 (52M) (unauthoritative)\n",
      "\n",
      "Homo_sapiens.GRCh38 100%[===================>]  51.60M  1.26MB/s    in 46s     \n",
      "\n",
      "2025-10-23 10:31:22 (1.12 MB/s) - ‘pbmc_1k_v3/Homo_sapiens.GRCh38.108.gtf.gz’ saved [54107597]\n",
      "\n",
      "CPU times: user 16.4 s, sys: 4.12 s, total: 20.5 s\n",
      "Wall time: 14min 42s\n"
     ]
    }
   ],
   "source": [
    "%%time\n",
    "!wget -P pbmc_1k_v3 ftp://ftp.ensembl.org/pub/release-108/fasta/homo_sapiens/dna/Homo_sapiens.GRCh38.dna.primary_assembly.fa.gz\n",
    "!wget -P pbmc_1k_v3 ftp://ftp.ensembl.org/pub/release-108/gtf/homo_sapiens/Homo_sapiens.GRCh38.108.gtf.gz"
   ]
  },
  {
   "cell_type": "code",
   "execution_count": 5,
   "id": "7fad1afc-907c-4c31-bc3e-7874e4f880c8",
   "metadata": {},
   "outputs": [
    {
     "name": "stdout",
     "output_type": "stream",
     "text": [
      "\u001b[1m\u001b[95m🚀 Starting ref workflow: standard\u001b[0m\n",
      "\u001b[96m>> /opt/miniforge/envs/omicverse_working/bin/kb ref -i pbmc_1k_v3/index.idx -g pbmc_1k_v3/t2g.txt -t 8 --d-list-overhang 1 -f1 pbmc_1k_v3/cdna.fa pbmc_1k_v3/Homo_sapiens.GRCh38.dna.primary_assembly.fa.gz pbmc_1k_v3/Homo_sapiens.GRCh38.108.gtf.gz\u001b[0m\n",
      "[2025-10-29 06:28:04,671]    INFO [ref] Preparing pbmc_1k_v3/Homo_sapiens.GRCh38.dna.primary_assembly.fa.gz, pbmc_1k_v3/Homo_sapiens.GRCh38.108.gtf.gz\n",
      "[2025-10-29 06:29:09,670]    INFO [ref] Splitting genome pbmc_1k_v3/Homo_sapiens.GRCh38.dna.primary_assembly.fa.gz into cDNA at /data/hulei/Projects/Omicverse_2/omicverse_update/tmp/tmpggg2bozs\n",
      "[2025-10-29 06:30:43,695]    INFO [ref] Concatenating 1 cDNAs to pbmc_1k_v3/cdna.fa\n",
      "[2025-10-29 06:30:48,774]    INFO [ref] Creating transcript-to-gene mapping at pbmc_1k_v3/t2g.txt\n",
      "[2025-10-29 06:30:51,120]    INFO [ref] Indexing pbmc_1k_v3/cdna.fa to pbmc_1k_v3/index.idx\n",
      "\u001b[92m✓ ref workflow completed!\u001b[0m\n",
      "dict_keys(['workflow', 'technology', 'parameters', 'index_path', 't2g_path', 'cdna_path'])\n"
     ]
    }
   ],
   "source": [
    "result = ov.alignment.single.ref(\n",
    "  fasta_paths='pbmc_1k_v3/Homo_sapiens.GRCh38.dna.primary_assembly.fa.gz',  #input\n",
    "  gtf_paths='pbmc_1k_v3/Homo_sapiens.GRCh38.108.gtf.gz', #input\n",
    "  index_path='pbmc_1k_v3/index.idx', #output\n",
    "  t2g_path='pbmc_1k_v3/t2g.txt', #output\n",
    "  cdna_path='pbmc_1k_v3/cdna.fa', #output\n",
    ")\n",
    "print(result.keys())"
   ]
  },
  {
   "cell_type": "markdown",
   "id": "f5f55d4a-d4ce-46e8-861d-ca275e9c81cc",
   "metadata": {},
   "source": [
    "## Generate RNA count matrices\n",
    "The following command will generate an RNA count matrix of cells (rows) by genes (columns) in H5AD format, which is a binary format used to store Anndata objects. Notice that this requires providing the index and transcript-to-gene mapping downloaded in the previous step to the ```index_path``` and ```t2g_path``` arguments respectively. Also, since the reads were generated with the 10x Genomics Chromium Single Cell v3 Chemistry, the technology ```10xv3``` argument is used.\n",
    "\n"
   ]
  },
  {
   "cell_type": "code",
   "execution_count": 7,
   "id": "4690d72f-4f47-4292-a637-69c7507fdeb2",
   "metadata": {},
   "outputs": [
    {
     "name": "stdout",
     "output_type": "stream",
     "text": [
      "\u001b[1m\u001b[95m🚀 Starting count workflow: standard\u001b[0m\n",
      "\u001b[96m    Technology: 10XV3\u001b[0m\n",
      "\u001b[96m    Output directory: pbmc_1k_v3\u001b[0m\n",
      "\u001b[96m>> /opt/miniforge/envs/omicverse_working/bin/kb count -i pbmc_1k_v3/index.idx -g pbmc_1k_v3/t2g.txt -x 10XV3 -o pbmc_1k_v3 -t 2 -m 2G --filter bustools --h5ad pbmc_1k_v3/pbmc_1k_v3_fastqs/pbmc_1k_v3_S1_L001_R1_001.fastq.gz pbmc_1k_v3/pbmc_1k_v3_fastqs/pbmc_1k_v3_S1_L001_R2_001.fastq.gz pbmc_1k_v3/pbmc_1k_v3_fastqs/pbmc_1k_v3_S1_L002_R1_001.fastq.gz pbmc_1k_v3/pbmc_1k_v3_fastqs/pbmc_1k_v3_S1_L002_R2_001.fastq.gz\u001b[0m\n",
      "[2025-10-29 06:39:41,021]    INFO [count] Using index pbmc_1k_v3/index.idx to generate BUS file to pbmc_1k_v3 from\n",
      "[2025-10-29 06:39:41,022]    INFO [count]         pbmc_1k_v3/pbmc_1k_v3_fastqs/pbmc_1k_v3_S1_L001_R1_001.fastq.gz\n",
      "[2025-10-29 06:39:41,022]    INFO [count]         pbmc_1k_v3/pbmc_1k_v3_fastqs/pbmc_1k_v3_S1_L001_R2_001.fastq.gz\n",
      "[2025-10-29 06:39:41,022]    INFO [count]         pbmc_1k_v3/pbmc_1k_v3_fastqs/pbmc_1k_v3_S1_L002_R1_001.fastq.gz\n",
      "[2025-10-29 06:39:41,022]    INFO [count]         pbmc_1k_v3/pbmc_1k_v3_fastqs/pbmc_1k_v3_S1_L002_R2_001.fastq.gz\n",
      "[2025-10-29 06:54:09,339]    INFO [count] Sorting BUS file pbmc_1k_v3/output.bus to pbmc_1k_v3/tmp/output.s.bus\n",
      "[2025-10-29 06:54:20,157]    INFO [count] On-list not provided\n",
      "[2025-10-29 06:54:20,158]    INFO [count] Copying pre-packaged 10XV3 on-list to pbmc_1k_v3\n",
      "[2025-10-29 06:54:21,859]    INFO [count] Inspecting BUS file pbmc_1k_v3/tmp/output.s.bus\n",
      "[2025-10-29 06:54:29,973]    INFO [count] Correcting BUS records in pbmc_1k_v3/tmp/output.s.bus to pbmc_1k_v3/tmp/output.s.c.bus with on-list pbmc_1k_v3/10x_version3_whitelist.txt\n",
      "[2025-10-29 06:54:44,096]    INFO [count] Sorting BUS file pbmc_1k_v3/tmp/output.s.c.bus to pbmc_1k_v3/output.unfiltered.bus\n",
      "[2025-10-29 06:54:52,412]    INFO [count] Generating count matrix pbmc_1k_v3/counts_unfiltered/cells_x_genes from BUS file pbmc_1k_v3/output.unfiltered.bus\n",
      "[2025-10-29 06:55:00,914]    INFO [count] Writing gene names to file pbmc_1k_v3/counts_unfiltered/cells_x_genes.genes.names.txt\n",
      "[2025-10-29 06:55:01,271] WARNING [count] 22736 gene IDs do not have corresponding valid gene names. These genes will use their gene IDs instead.\n",
      "[2025-10-29 06:55:01,314]    INFO [count] Reading matrix pbmc_1k_v3/counts_unfiltered/cells_x_genes.mtx\n",
      "[2025-10-29 06:55:05,177]    INFO [count] Writing matrix to h5ad pbmc_1k_v3/counts_unfiltered/adata.h5ad\n",
      "[2025-10-29 06:55:05,880]    INFO [count] Filtering with bustools\n",
      "[2025-10-29 06:55:05,880]    INFO [count] Generating on-list pbmc_1k_v3/filter_barcodes.txt from BUS file pbmc_1k_v3/output.unfiltered.bus\n",
      "[2025-10-29 06:55:07,084]    INFO [count] Correcting BUS records in pbmc_1k_v3/output.unfiltered.bus to pbmc_1k_v3/tmp/output.unfiltered.c.bus with on-list pbmc_1k_v3/filter_barcodes.txt\n",
      "[2025-10-29 06:55:14,096]    INFO [count] Sorting BUS file pbmc_1k_v3/tmp/output.unfiltered.c.bus to pbmc_1k_v3/output.filtered.bus\n",
      "[2025-10-29 06:55:21,810]    INFO [count] Generating count matrix pbmc_1k_v3/counts_filtered/cells_x_genes from BUS file pbmc_1k_v3/output.filtered.bus\n",
      "[2025-10-29 06:55:28,532]    INFO [count] Writing gene names to file pbmc_1k_v3/counts_filtered/cells_x_genes.genes.names.txt\n",
      "[2025-10-29 06:55:28,914] WARNING [count] 22736 gene IDs do not have corresponding valid gene names. These genes will use their gene IDs instead.\n",
      "[2025-10-29 06:55:28,959]    INFO [count] Reading matrix pbmc_1k_v3/counts_filtered/cells_x_genes.mtx\n",
      "[2025-10-29 06:55:31,769]    INFO [count] Writing matrix to h5ad pbmc_1k_v3/counts_filtered/adata.h5ad\n",
      "\u001b[92m✓ count workflow completed!\u001b[0m\n",
      "dict_keys(['workflow', 'technology', 'output_path', 'parameters'])\n"
     ]
    }
   ],
   "source": [
    "result = ov.alignment.single.count(\n",
    "    fastq_paths=['pbmc_1k_v3/pbmc_1k_v3_fastqs/pbmc_1k_v3_S1_L001_R1_001.fastq.gz', #input\n",
    "                 'pbmc_1k_v3/pbmc_1k_v3_fastqs/pbmc_1k_v3_S1_L001_R2_001.fastq.gz', #input\n",
    "                 'pbmc_1k_v3/pbmc_1k_v3_fastqs/pbmc_1k_v3_S1_L002_R1_001.fastq.gz', #input\n",
    "                 'pbmc_1k_v3/pbmc_1k_v3_fastqs/pbmc_1k_v3_S1_L002_R2_001.fastq.gz'], #input\n",
    "    index_path='pbmc_1k_v3/index.idx', #input\n",
    "    t2g_path='pbmc_1k_v3/t2g.txt', #input\n",
    "    technology='10XV3', # technology\n",
    "    output_path='pbmc_1k_v3', #output\n",
    "    h5ad=True,\n",
    "    filter_barcodes=True,\n",
    "    threads=2\n",
    ")\n",
    "print(result.keys())"
   ]
  },
  {
   "cell_type": "markdown",
   "id": "dcc415f1-16ed-40f4-a004-6617a50b309f",
   "metadata": {},
   "source": [
    "## Analysis\n",
    "\n",
    "In this part of the tutorial, we will load the RNA count matrix generated by kb count into Python and analyse them using the omicverse pipeline.\n",
    "\n",
    "You can find detailed information about these codes in this [website](https://omicverse.readthedocs.io/en/latest/Tutorials-single/t_preprocess_cpu).\n"
   ]
  },
  {
   "cell_type": "code",
   "execution_count": 8,
   "id": "b0c76128-bfba-4e83-892c-f09a1281fa31",
   "metadata": {},
   "outputs": [
    {
     "data": {
      "text/plain": [
       "AnnData object with n_obs × n_vars = 1194 × 62703"
      ]
     },
     "execution_count": 8,
     "metadata": {},
     "output_type": "execute_result"
    }
   ],
   "source": [
    "adata = sc.read_h5ad(\"pbmc_1k_v3/counts_filtered/adata.h5ad\")\n",
    "var_names = pd.read_csv(\"pbmc_1k_v3/counts_filtered/cells_x_genes.genes.names.txt\",\n",
    "                        index_col=[0],header=None)\n",
    "adata.var_names = var_names.index.tolist()\n",
    "adata"
   ]
  },
  {
   "cell_type": "code",
   "execution_count": 9,
   "id": "81061850-0a6f-413c-9703-635e19f7f8c7",
   "metadata": {
    "scrolled": true
   },
   "outputs": [
    {
     "name": "stdout",
     "output_type": "stream",
     "text": [
      "\u001b[95m\u001b[1m🖥️ Using CPU mode for QC...\u001b[0m\n",
      "\n",
      "\u001b[95m\u001b[1m📊 Step 1: Calculating QC Metrics\u001b[0m\n",
      "   \u001b[96mMitochondrial genes (prefix 'MT-'): \u001b[1m37\u001b[0m\u001b[96m found\u001b[0m\n",
      "   \u001b[92m✓ QC metrics calculated:\u001b[0m\n",
      "     \u001b[94m• Mean nUMIs: \u001b[1m8081\u001b[0m\u001b[94m (range: 845-59145)\u001b[0m\n",
      "     \u001b[94m• Mean genes: \u001b[1m2222\u001b[0m\u001b[94m (range: 21-6863)\u001b[0m\n",
      "     \u001b[94m• Mean mitochondrial %: \u001b[1m13.7%\u001b[0m\u001b[94m (max: 98.6%)\u001b[0m\n",
      "   \u001b[96m📈 Original cell count: \u001b[1m1,194\u001b[0m\n",
      "\n",
      "\u001b[95m\u001b[1m🔧 Step 2: Quality Filtering (SEURAT)\u001b[0m\n",
      "   \u001b[96mThresholds: mito≤0.2, nUMIs≥500, genes≥250\u001b[0m\n",
      "   \u001b[94m📊 Seurat Filter Results:\u001b[0m\n",
      "     \u001b[96m• nUMIs filter (≥500): \u001b[1m0\u001b[0m\u001b[96m cells failed (0.0%)\u001b[0m\n",
      "     \u001b[96m• Genes filter (≥250): \u001b[1m15\u001b[0m\u001b[96m cells failed (1.3%)\u001b[0m\n",
      "     \u001b[96m• Mitochondrial filter (≤0.2): \u001b[1m89\u001b[0m\u001b[96m cells failed (7.5%)\u001b[0m\n",
      "   \u001b[92m✓ Filters applied successfully\u001b[0m\n",
      "   \u001b[92m✓ Combined QC filters: \u001b[1m89\u001b[0m\u001b[92m cells removed (7.5%)\u001b[0m\n",
      "\n",
      "\u001b[95m\u001b[1m🎯 Step 3: Final Filtering\u001b[0m\n",
      "   \u001b[96mParameters: min_genes=200, min_cells=3\u001b[0m\n",
      "   \u001b[96mRatios: max_genes_ratio=1, max_cells_ratio=1\u001b[0m\n",
      "filtered out 43156 genes that are detected in less than 3 cells\n",
      "   \u001b[92m✓ Final filtering: \u001b[1m0\u001b[0m\u001b[92m cells, \u001b[1m43,156\u001b[0m\u001b[92m genes removed\u001b[0m\n",
      "\n",
      "\u001b[95m\u001b[1m🔍 Step 4: Doublet Detection\u001b[0m\n",
      "   \u001b[93m⚠️  Note: 'scrublet' detection is too old and may not work properly\u001b[0m\n",
      "   \u001b[96m💡 Consider using 'doublets_method=sccomposite' for better results\u001b[0m\n",
      "   \u001b[92m🔍 Running scrublet doublet detection...\u001b[0m\n",
      "\n",
      "\u001b[95m\u001b[1m🔍 Running Scrublet Doublet Detection:\u001b[0m\n",
      "   \u001b[96mMode: \u001b[1mcpu\u001b[0m\n",
      "   \u001b[96mComputing doublet prediction using Scrublet algorithm\u001b[0m\n",
      "   \u001b[92m🔍 Filtering genes and cells...\u001b[0m\n",
      "   \u001b[92m🔍 Normalizing data and selecting highly variable genes...\u001b[0m\n",
      "\n",
      "\u001b[95m\u001b[1m🔍 Count Normalization:\u001b[0m\n",
      "   \u001b[96mTarget sum: \u001b[1mmedian\u001b[0m\n",
      "   \u001b[96mExclude highly expressed: \u001b[1mFalse\u001b[0m\n",
      "\n",
      "\u001b[92m✅ Count Normalization Completed Successfully!\u001b[0m\n",
      "   \u001b[92m✓ Processed: \u001b[1m1,105\u001b[0m\u001b[92m cells × \u001b[1m19,547\u001b[0m\u001b[92m genes\u001b[0m\n",
      "   \u001b[92m✓ Runtime: \u001b[1m0.00s\u001b[0m\n",
      "\n",
      "\u001b[95m\u001b[1m🔍 Highly Variable Genes Selection:\u001b[0m\n",
      "   \u001b[96mMethod: \u001b[1mseurat\u001b[0m\n",
      "   ⚠️ \u001b[93mGene indices \u001b[1m[3676]\u001b[0m\u001b[93m fell into a single bin: normalized dispersion set to 1\u001b[0m\n",
      "   \u001b[93m💡 Consider decreasing `n_bins` to avoid this effect\u001b[0m\n",
      "\n",
      "\u001b[92m✅ HVG Selection Completed Successfully!\u001b[0m\n",
      "   \u001b[92m✓ Selected: \u001b[1m2,865\u001b[0m\u001b[92m highly variable genes out of \u001b[1m19,547\u001b[0m\u001b[92m total (14.7%)\u001b[0m\n",
      "   \u001b[92m✓ Results added to AnnData object:\u001b[0m\n",
      "     \u001b[96m• 'highly_variable': \u001b[1mBoolean vector\u001b[0m\u001b[96m (adata.var)\u001b[0m\n",
      "     \u001b[96m• 'means': \u001b[1mFloat vector\u001b[0m\u001b[96m (adata.var)\u001b[0m\n",
      "     \u001b[96m• 'dispersions': \u001b[1mFloat vector\u001b[0m\u001b[96m (adata.var)\u001b[0m\n",
      "     \u001b[96m• 'dispersions_norm': \u001b[1mFloat vector\u001b[0m\u001b[96m (adata.var)\u001b[0m\n",
      "   \u001b[92m🔍 Simulating synthetic doublets...\u001b[0m\n",
      "   \u001b[92m🔍 Normalizing observed and simulated data...\u001b[0m\n",
      "\n",
      "\u001b[95m\u001b[1m🔍 Count Normalization:\u001b[0m\n",
      "   \u001b[96mTarget sum: \u001b[1m1000000.0\u001b[0m\n",
      "   \u001b[96mExclude highly expressed: \u001b[1mFalse\u001b[0m\n",
      "\n",
      "\u001b[92m✅ Count Normalization Completed Successfully!\u001b[0m\n",
      "   \u001b[92m✓ Processed: \u001b[1m1,105\u001b[0m\u001b[92m cells × \u001b[1m2,865\u001b[0m\u001b[92m genes\u001b[0m\n",
      "   \u001b[92m✓ Runtime: \u001b[1m0.00s\u001b[0m\n",
      "\n",
      "\u001b[95m\u001b[1m🔍 Count Normalization:\u001b[0m\n",
      "   \u001b[96mTarget sum: \u001b[1m1000000.0\u001b[0m\n",
      "   \u001b[96mExclude highly expressed: \u001b[1mFalse\u001b[0m\n",
      "\n",
      "\u001b[92m✅ Count Normalization Completed Successfully!\u001b[0m\n",
      "   \u001b[92m✓ Processed: \u001b[1m2,210\u001b[0m\u001b[92m cells × \u001b[1m2,865\u001b[0m\u001b[92m genes\u001b[0m\n",
      "   \u001b[92m✓ Runtime: \u001b[1m0.01s\u001b[0m\n",
      "   \u001b[92m🔍 Embedding transcriptomes using PCA...\u001b[0m\n",
      "   \u001b[92m🔍 Calculating doublet scores...\u001b[0m\n",
      "    using data matrix X directly\n",
      "   \u001b[92m🔍 Calling doublets with threshold detection...\u001b[0m\n",
      "   \u001b[96m📊 Automatic threshold: \u001b[1m0.192\u001b[0m\n",
      "   \u001b[96m📈 Detected doublet rate: \u001b[1m1.0%\u001b[0m\n",
      "   \u001b[96m🔍 Detectable doublet fraction: \u001b[1m51.4%\u001b[0m\n",
      "   \u001b[94m📊 Overall doublet rate comparison:\u001b[0m\n",
      "     \u001b[96m• Expected: \u001b[1m5.0%\u001b[0m\n",
      "     \u001b[96m• Estimated: \u001b[1m1.9%\u001b[0m\n",
      "\n",
      "\u001b[92m✅ Scrublet Analysis Completed Successfully!\u001b[0m\n",
      "   \u001b[92m✓ Results added to AnnData object:\u001b[0m\n",
      "     \u001b[96m• 'doublet_score': \u001b[1mDoublet scores\u001b[0m\u001b[96m (adata.obs)\u001b[0m\n",
      "     \u001b[96m• 'predicted_doublet': \u001b[1mBoolean predictions\u001b[0m\u001b[96m (adata.obs)\u001b[0m\n",
      "     \u001b[96m• 'scrublet': \u001b[1mParameters and metadata\u001b[0m\u001b[96m (adata.uns)\u001b[0m\n",
      "   \u001b[92m✓ Scrublet completed: \u001b[1m11\u001b[0m\u001b[92m doublets removed (1.0%)\u001b[0m\n",
      "CPU times: user 22.8 s, sys: 16.7 s, total: 39.5 s\n",
      "Wall time: 3.98 s\n"
     ]
    },
    {
     "data": {
      "text/plain": [
       "AnnData object with n_obs × n_vars = 1094 × 19547\n",
       "    obs: 'nUMIs', 'mito_perc', 'detected_genes', 'cell_complexity', 'passing_mt', 'passing_nUMIs', 'passing_ngenes', 'n_genes', 'doublet_score', 'predicted_doublet'\n",
       "    var: 'mt', 'n_cells'\n",
       "    uns: 'scrublet', 'status', 'status_args', 'REFERENCE_MANU'"
      ]
     },
     "execution_count": 9,
     "metadata": {},
     "output_type": "execute_result"
    }
   ],
   "source": [
    "%%time\n",
    "adata=ov.pp.qc(adata,\n",
    "              tresh={'mito_perc': 0.2, 'nUMIs': 500, 'detected_genes': 250},\n",
    "               doublets_method='scrublet',\n",
    "              batch_key=None)\n",
    "adata"
   ]
  },
  {
   "cell_type": "code",
   "execution_count": 10,
   "id": "2195e675-45ab-476b-997f-29004fef3f62",
   "metadata": {},
   "outputs": [
    {
     "name": "stdout",
     "output_type": "stream",
     "text": [
      "🔍 [2025-10-29 06:55:37] Running preprocessing in 'cpu' mode...\n",
      "\u001b[96mBegin robust gene identification\u001b[0m\n",
      "\u001b[94m    After filtration, 19547/19547 genes are kept.\u001b[0m\n",
      "\u001b[94m    Among 19547 genes, 19547 genes are robust.\u001b[0m\n",
      "✅ Robust gene identification completed successfully.\n",
      "\u001b[96mBegin size normalization: shiftlog and HVGs selection pearson\u001b[0m\n",
      "\n",
      "\u001b[95m\u001b[1m🔍 Count Normalization:\u001b[0m\n",
      "   \u001b[96mTarget sum: \u001b[1m500000.0\u001b[0m\n",
      "   \u001b[96mExclude highly expressed: \u001b[1mTrue\u001b[0m\n",
      "   \u001b[96mMax fraction threshold: \u001b[1m0.2\u001b[0m\n",
      "   ⚠️ \u001b[93mExcluding \u001b[1m1\u001b[0m\u001b[93m highly-expressed genes from normalization computation\u001b[0m\n",
      "   \u001b[93mExcluded genes: \u001b[1m['IGKC']\u001b[0m\n",
      "\n",
      "\u001b[92m✅ Count Normalization Completed Successfully!\u001b[0m\n",
      "   \u001b[92m✓ Processed: \u001b[1m1,094\u001b[0m\u001b[92m cells × \u001b[1m19,547\u001b[0m\u001b[92m genes\u001b[0m\n",
      "   \u001b[92m✓ Runtime: \u001b[1m0.16s\u001b[0m\n",
      "\n",
      "\u001b[95m\u001b[1m🔍 Highly Variable Genes Selection (Experimental):\u001b[0m\n",
      "   \u001b[96mMethod: \u001b[1mpearson_residuals\u001b[0m\n",
      "   \u001b[96mTarget genes: \u001b[1m2,000\u001b[0m\n",
      "   \u001b[96mTheta (overdispersion): \u001b[1m100\u001b[0m\n",
      "\n",
      "\u001b[92m✅ Experimental HVG Selection Completed Successfully!\u001b[0m\n",
      "   \u001b[92m✓ Selected: \u001b[1m2,000\u001b[0m\u001b[92m highly variable genes out of \u001b[1m19,547\u001b[0m\u001b[92m total (10.2%)\u001b[0m\n",
      "   \u001b[92m✓ Results added to AnnData object:\u001b[0m\n",
      "     \u001b[96m• 'highly_variable': \u001b[1mBoolean vector\u001b[0m\u001b[96m (adata.var)\u001b[0m\n",
      "     \u001b[96m• 'highly_variable_rank': \u001b[1mFloat vector\u001b[0m\u001b[96m (adata.var)\u001b[0m\n",
      "     \u001b[96m• 'highly_variable_nbatches': \u001b[1mInt vector\u001b[0m\u001b[96m (adata.var)\u001b[0m\n",
      "     \u001b[96m• 'highly_variable_intersection': \u001b[1mBoolean vector\u001b[0m\u001b[96m (adata.var)\u001b[0m\n",
      "     \u001b[96m• 'means': \u001b[1mFloat vector\u001b[0m\u001b[96m (adata.var)\u001b[0m\n",
      "     \u001b[96m• 'variances': \u001b[1mFloat vector\u001b[0m\u001b[96m (adata.var)\u001b[0m\n",
      "     \u001b[96m• 'residual_variances': \u001b[1mFloat vector\u001b[0m\u001b[96m (adata.var)\u001b[0m\n",
      "\u001b[94m    Time to analyze data in cpu: 2.02 seconds.\u001b[0m\n",
      "✅ Preprocessing completed successfully.\n",
      "\u001b[92m    Added:\u001b[0m\n",
      "\u001b[96m        'highly_variable_features', boolean vector (adata.var)\u001b[0m\n",
      "\u001b[96m        'means', float vector (adata.var)\u001b[0m\n",
      "\u001b[96m        'variances', float vector (adata.var)\u001b[0m\n",
      "\u001b[96m        'residual_variances', float vector (adata.var)\u001b[0m\n",
      "\u001b[96m        'counts', raw counts layer (adata.layers)\u001b[0m\n",
      "\u001b[94m    End of size normalization: shiftlog and HVGs selection pearson\u001b[0m\n",
      "CPU times: user 4.49 s, sys: 6.26 s, total: 10.8 s\n",
      "Wall time: 2.08 s\n"
     ]
    },
    {
     "data": {
      "text/plain": [
       "AnnData object with n_obs × n_vars = 1094 × 19547\n",
       "    obs: 'nUMIs', 'mito_perc', 'detected_genes', 'cell_complexity', 'passing_mt', 'passing_nUMIs', 'passing_ngenes', 'n_genes', 'doublet_score', 'predicted_doublet'\n",
       "    var: 'mt', 'n_cells', 'percent_cells', 'robust', 'means', 'variances', 'residual_variances', 'highly_variable_rank', 'highly_variable_features'\n",
       "    uns: 'scrublet', 'status', 'status_args', 'REFERENCE_MANU', 'log1p', 'hvg'\n",
       "    layers: 'counts'"
      ]
     },
     "execution_count": 10,
     "metadata": {},
     "output_type": "execute_result"
    }
   ],
   "source": [
    "%%time\n",
    "adata=ov.pp.preprocess(adata,mode='shiftlog|pearson',n_HVGs=2000,\n",
    "                       target_sum=50*1e4)\n",
    "adata"
   ]
  },
  {
   "cell_type": "code",
   "execution_count": 11,
   "id": "41137826-0d26-4f6a-b1f3-09d2d90c5acb",
   "metadata": {},
   "outputs": [
    {
     "name": "stdout",
     "output_type": "stream",
     "text": [
      "CPU times: user 4.04 ms, sys: 4.04 ms, total: 8.07 ms\n",
      "Wall time: 7.41 ms\n"
     ]
    },
    {
     "data": {
      "text/plain": [
       "View of AnnData object with n_obs × n_vars = 1094 × 2000\n",
       "    obs: 'nUMIs', 'mito_perc', 'detected_genes', 'cell_complexity', 'passing_mt', 'passing_nUMIs', 'passing_ngenes', 'n_genes', 'doublet_score', 'predicted_doublet'\n",
       "    var: 'mt', 'n_cells', 'percent_cells', 'robust', 'means', 'variances', 'residual_variances', 'highly_variable_rank', 'highly_variable_features'\n",
       "    uns: 'scrublet', 'status', 'status_args', 'REFERENCE_MANU', 'log1p', 'hvg'\n",
       "    layers: 'counts'"
      ]
     },
     "execution_count": 11,
     "metadata": {},
     "output_type": "execute_result"
    }
   ],
   "source": [
    "%%time\n",
    "adata.raw = adata\n",
    "adata = adata[:, adata.var.highly_variable_features]\n",
    "adata"
   ]
  },
  {
   "cell_type": "code",
   "execution_count": 12,
   "id": "9be1d0c7-2032-4a00-89d8-c2881baffe37",
   "metadata": {},
   "outputs": [
    {
     "name": "stdout",
     "output_type": "stream",
     "text": [
      "CPU times: user 1.46 s, sys: 4.36 s, total: 5.82 s\n",
      "Wall time: 715 ms\n"
     ]
    },
    {
     "data": {
      "text/plain": [
       "AnnData object with n_obs × n_vars = 1094 × 2000\n",
       "    obs: 'nUMIs', 'mito_perc', 'detected_genes', 'cell_complexity', 'passing_mt', 'passing_nUMIs', 'passing_ngenes', 'n_genes', 'doublet_score', 'predicted_doublet'\n",
       "    var: 'mt', 'n_cells', 'percent_cells', 'robust', 'means', 'variances', 'residual_variances', 'highly_variable_rank', 'highly_variable_features'\n",
       "    uns: 'scrublet', 'status', 'status_args', 'REFERENCE_MANU', 'log1p', 'hvg'\n",
       "    layers: 'counts', 'scaled'"
      ]
     },
     "execution_count": 12,
     "metadata": {},
     "output_type": "execute_result"
    }
   ],
   "source": [
    "%%time\n",
    "ov.pp.scale(adata)\n",
    "adata"
   ]
  },
  {
   "cell_type": "code",
   "execution_count": 13,
   "id": "de5b829a-578c-4394-af6d-046930816922",
   "metadata": {},
   "outputs": [
    {
     "name": "stdout",
     "output_type": "stream",
     "text": [
      "computing PCA🔍\n",
      "    with n_comps=50\n",
      "   🖥️ Using sklearn PCA for CPU computation\n",
      "   \u001b[96m🖥️ sklearn PCA backend: CPU computation\u001b[0m\n",
      "    finished✅ (0:00:00)\n",
      "CPU times: user 5.97 s, sys: 23.4 s, total: 29.3 s\n",
      "Wall time: 593 ms\n"
     ]
    },
    {
     "data": {
      "text/plain": [
       "AnnData object with n_obs × n_vars = 1094 × 2000\n",
       "    obs: 'nUMIs', 'mito_perc', 'detected_genes', 'cell_complexity', 'passing_mt', 'passing_nUMIs', 'passing_ngenes', 'n_genes', 'doublet_score', 'predicted_doublet'\n",
       "    var: 'mt', 'n_cells', 'percent_cells', 'robust', 'means', 'variances', 'residual_variances', 'highly_variable_rank', 'highly_variable_features'\n",
       "    uns: 'scrublet', 'status', 'status_args', 'REFERENCE_MANU', 'log1p', 'hvg', 'pca', 'scaled|original|pca_var_ratios', 'scaled|original|cum_sum_eigenvalues'\n",
       "    obsm: 'X_pca', 'scaled|original|X_pca'\n",
       "    varm: 'PCs', 'scaled|original|pca_loadings'\n",
       "    layers: 'counts', 'scaled'"
      ]
     },
     "execution_count": 13,
     "metadata": {},
     "output_type": "execute_result"
    }
   ],
   "source": [
    "%%time\n",
    "ov.pp.pca(adata,layer='scaled',n_pcs=50)\n",
    "adata"
   ]
  },
  {
   "cell_type": "code",
   "execution_count": 14,
   "id": "8d0164e5-b466-44b1-9e80-250502f1e3cf",
   "metadata": {},
   "outputs": [
    {
     "data": {
      "image/png": "[encoded data removed]",
      "text/plain": [
       "<Figure size 320x320 with 2 Axes>"
      ]
     },
     "metadata": {
      "image/png": {
       "height": 287,
       "width": 303
      }
     },
     "output_type": "display_data"
    }
   ],
   "source": [
    "adata.obsm['X_pca']=adata.obsm['scaled|original|X_pca']\n",
    "ov.pl.embedding(adata,\n",
    "                  basis='X_pca',\n",
    "                  color='CST3',\n",
    "                  frameon='small')"
   ]
  },
  {
   "cell_type": "code",
   "execution_count": null,
   "id": "d31ac1ba-fcea-447b-a3b9-235e77e0dc3a",
   "metadata": {},
   "outputs": [],
   "source": []
  }
 ],
 "metadata": {
  "kernelspec": {
   "display_name": "Python 3 (ipykernel)",
   "language": "python",
   "name": "python3"
  },
  "language_info": {
   "codemirror_mode": {
    "name": "ipython",
    "version": 3
   },
   "file_extension": ".py",
   "mimetype": "text/x-python",
   "name": "python",
   "nbconvert_exporter": "python",
   "pygments_lexer": "ipython3",
   "version": "3.11.9"
  }
 },
 "nbformat": 4,
 "nbformat_minor": 5
}
